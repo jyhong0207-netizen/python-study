{
 "cells": [
  {
   "cell_type": "code",
   "execution_count": 1,
   "id": "88c470b3",
   "metadata": {},
   "outputs": [
    {
     "name": "stdout",
     "output_type": "stream",
     "text": [
      "7\n",
      "-1\n"
     ]
    }
   ],
   "source": [
    "#MyMod1.py 파일을 참조\n",
    "from mylibrary import MyMod1\n",
    "\n",
    "#참조한 파일에 정의된 함수는 '파일이름.함수명' 형식으로 접근\n",
    "print(MyMod1.plus(3,4))\n",
    "print(MyMod1.minus(3,4))"
   ]
  },
  {
   "cell_type": "code",
   "execution_count": 2,
   "id": "fd7037b7",
   "metadata": {},
   "outputs": [
    {
     "name": "stdout",
     "output_type": "stream",
     "text": [
      "-------생성자가 실행되었습니다. --------\n",
      "이름:파이썬학생/이메일:jyhong0207@gmail.com\n"
     ]
    }
   ],
   "source": [
    "from mylibrary import MyMod2\n",
    "\n",
    "# MyMod에 정의된  Member라는 클래스에  \"모듈이름.클래스이름\"으로 접근\n",
    "#->import된 클래스는 정의된 기능을 다른 변수에 부여해야 사용가능.\n",
    "#  ==>객체\n",
    "# ->클래스에 생성자가 포함되어 있고 생성자가 파라미터를 갖는 경우\n",
    "#  객체 생성시에 생성자 파라미터를 전달해야 함.\n",
    "mem = MyMod2.Member('파이썬학생','jyhong0207@gmail.com')\n",
    "mem.view_info()"
   ]
  },
  {
   "cell_type": "code",
   "execution_count": 3,
   "id": "ade1cabb",
   "metadata": {},
   "outputs": [
    {
     "name": "stdout",
     "output_type": "stream",
     "text": [
      "45\n",
      "15\n"
     ]
    }
   ],
   "source": [
    "from mylibrary import MyMod3\n",
    "\n",
    "# 모듈안의 객체를 통해서 기능에 접근.\n",
    "print(MyMod3.my_calc.plus(30,15))\n",
    "print(MyMod3.my_calc.minus(30,15))"
   ]
  },
  {
   "cell_type": "code",
   "execution_count": 4,
   "id": "d23cb5f2",
   "metadata": {},
   "outputs": [
    {
     "name": "stdout",
     "output_type": "stream",
     "text": [
      "7\n"
     ]
    }
   ],
   "source": [
    "from mylibrary.MyMod1 import plus\n",
    "\n",
    "#골라서 가져온 기능들은 앞에 모듈이름을 적용하지 않고,\n",
    "#직접 접근한다.\n",
    "print(plus(3,4))\n",
    "\n",
    "# minus 함수는 import 하지 않으므로 사용 불가 -->에러\n",
    "#print(minus(3,4))"
   ]
  },
  {
   "cell_type": "code",
   "execution_count": 5,
   "id": "d496d71b",
   "metadata": {},
   "outputs": [
    {
     "name": "stdout",
     "output_type": "stream",
     "text": [
      "-------생성자가 실행되었습니다. --------\n",
      "이름:파이썬학생/이메일:jyhong0207@gmail.com\n"
     ]
    }
   ],
   "source": [
    "#MyMod2 모듈에서 Member라는 이름의 기능만 지정해서 참조\n",
    "from mylibrary.MyMod2 import Member\n",
    "\n",
    "# from 절로 특정 기능만 골라서 참조한 경우 모듈이름 없이 직접 접근\n",
    "# 참조된 기능이 클래스므로, 객체를 생성해야만 사용가능.\n",
    "mem = Member('파이썬학생', 'jyhong0207@gmail.com')\n",
    "mem.view_info()"
   ]
  },
  {
   "cell_type": "code",
   "execution_count": 6,
   "id": "264604fc",
   "metadata": {},
   "outputs": [
    {
     "name": "stdout",
     "output_type": "stream",
     "text": [
      "45\n",
      "15\n"
     ]
    }
   ],
   "source": [
    "# 모듈에 정의된 특정 기능(여기서는 객체)만 골라서 참조\n",
    "from mylibrary.MyMod3 import my_calc\n",
    "\n",
    "print(my_calc.plus(30,15))\n",
    "print(my_calc.minus(30,15))"
   ]
  },
  {
   "cell_type": "code",
   "execution_count": 8,
   "id": "08c9568e",
   "metadata": {},
   "outputs": [
    {
     "name": "stdout",
     "output_type": "stream",
     "text": [
      "45\n",
      "-------생성자가 실행되었습니다. --------\n",
      "이름:홍지영/이메일:jyhong0207@gmail.com\n",
      "300\n",
      "200\n"
     ]
    }
   ],
   "source": [
    "from mylibrary.MyMod1 import plus as 더하기\n",
    "from mylibrary.MyMod2 import Member as 회원클래스\n",
    "from mylibrary.MyMod3 import my_calc as 계산기\n",
    "\n",
    "print(더하기(30,15))\n",
    "\n",
    "회원 = 회원클래스(\"홍지영\", \"jyhong0207@gmail.com\")\n",
    "회원.view_info()\n",
    "\n",
    "print(계산기.plus(100,200))\n",
    "print(계산기.minus(500,300))"
   ]
  },
  {
   "cell_type": "code",
   "execution_count": 12,
   "id": "08c11dbc",
   "metadata": {},
   "outputs": [],
   "source": [
    "# 모듈 참조\n",
    "import sys #현재 시스템의 정보를 제공하는 모듈\n",
    "import os #운영체제의 기능에 접근할 수 있는 모듈"
   ]
  },
  {
   "cell_type": "code",
   "execution_count": 12,
   "id": "747fcc32",
   "metadata": {},
   "outputs": [
    {
     "name": "stdout",
     "output_type": "stream",
     "text": [
      "win32\n"
     ]
    }
   ],
   "source": [
    "print(sys.platform)"
   ]
  },
  {
   "cell_type": "code",
   "execution_count": 13,
   "id": "5e626722",
   "metadata": {},
   "outputs": [
    {
     "name": "stdout",
     "output_type": "stream",
     "text": [
      "['.git', '.gitignore', '01- 파이썬시작하기, 변수와 연산자.ipynb', '02-함수의 이해.ipynb', '03-프로그램 흐름제어.ipynb', '04- 리스트 for문.ipynb', '05-딕셔너리.ipynb', '06-객체지향 프로그래밍의 이해.ipynb', '07-파이썬 기본 라이브러리.ipynb', 'covid19.csv', 'grade.csv', 'grade2.csv', 'hellopython.txt', 'helloworld.txt', 'mylibrary', 'README.md', '마크다운 실습.md']\n"
     ]
    }
   ],
   "source": [
    "#현재 폴더 내의 하위 항목들의 이름을 리스트로 리턴받음\n",
    "#-> \"./\" 혹은 \".\"은 현재 폴더라는 의미\n",
    "#-> \"../\"는 상위 폴더라는 의미\n",
    "#->\"../는  상위폴더라는 의미\"\n",
    "ls = os.listdir('./')\n",
    "print(ls)"
   ]
  },
  {
   "cell_type": "code",
   "execution_count": 14,
   "id": "b22492e7",
   "metadata": {},
   "outputs": [
    {
     "name": "stdout",
     "output_type": "stream",
     "text": [
      "False\n"
     ]
    }
   ],
   "source": [
    "#특정 폴더나 파일이 존재하는지 확인 -> 상대경로일 경우 현재 소스 파일기준\n",
    "k = os.path.exists('./hello')\n",
    "print(k)"
   ]
  },
  {
   "cell_type": "code",
   "execution_count": 17,
   "id": "5a87f003",
   "metadata": {},
   "outputs": [
    {
     "name": "stdout",
     "output_type": "stream",
     "text": [
      "c:\\Users\\itwill\\Desktop\\python2\\hello\n"
     ]
    }
   ],
   "source": [
    "# 절대경로 확인 -> 존재하지 않더라도 경로값은 확인가능.\n",
    "print( os.path.abspath('./hello'))"
   ]
  },
  {
   "cell_type": "code",
   "execution_count": 29,
   "id": "e6b1a71b",
   "metadata": {},
   "outputs": [
    {
     "name": "stdout",
     "output_type": "stream",
     "text": [
      "hello폴더를 생성했습니다.\n"
     ]
    }
   ],
   "source": [
    "if os.path.exists('./hello')== False:\n",
    "    #없다면 생성\n",
    "    os.mkdir('./hello')\n",
    "    print('hello폴더를 생성했습니다.')\n",
    "else:\n",
    "    #있다면 삭제 -->빈 폴더만 삭제가능\n",
    "    os.rmdir('./hello')\n",
    "    print('hello 폴더를 삭제했습니다.')\n"
   ]
  },
  {
   "cell_type": "code",
   "execution_count": 20,
   "id": "a096362a",
   "metadata": {},
   "outputs": [],
   "source": [
    "# 모듈 참조하기\n",
    "import glob as gl"
   ]
  },
  {
   "cell_type": "code",
   "execution_count": 22,
   "id": "631637d2",
   "metadata": {},
   "outputs": [
    {
     "name": "stdout",
     "output_type": "stream",
     "text": [
      "['01- 파이썬시작하기, 변수와 연산자.ipynb', '02-함수의 이해.ipynb', '03-프로그램 흐름제어.ipynb', '04- 리스트 for문.ipynb', '05-딕셔너리.ipynb', '06-객체지향 프로그래밍의 이해.ipynb', '07-파이썬 기본 라이브러리.ipynb', 'covid19.csv', 'grade.csv', 'grade2.csv', 'hellopython.txt', 'helloworld.txt', 'mylibrary', 'README.md', '마크다운 실습.md']\n"
     ]
    }
   ],
   "source": [
    "# 현재 폴더의 모든 하위 요소 조회하기\n",
    "ls = gl.glob('*')\n",
    "print(ls)\n"
   ]
  },
  {
   "cell_type": "code",
   "execution_count": 24,
   "id": "01b23f15",
   "metadata": {},
   "outputs": [
    {
     "name": "stdout",
     "output_type": "stream",
     "text": [
      "['01- 파이썬시작하기, 변수와 연산자.ipynb', '02-함수의 이해.ipynb', '03-프로그램 흐름제어.ipynb', '04- 리스트 for문.ipynb', '05-딕셔너리.ipynb', '06-객체지향 프로그래밍의 이해.ipynb', '07-파이썬 기본 라이브러리.ipynb']\n"
     ]
    }
   ],
   "source": [
    "# 현재 폴더에서 \".ipynb\"로 끝나는 모든 요소들 조회\n",
    "ls = gl.glob('*.ipynb')\n",
    "print(ls)"
   ]
  },
  {
   "cell_type": "code",
   "execution_count": 26,
   "id": "ed7a75d2",
   "metadata": {},
   "outputs": [
    {
     "name": "stdout",
     "output_type": "stream",
     "text": [
      "['02-함수의 이해.ipynb', 'grade2.csv']\n"
     ]
    }
   ],
   "source": [
    "# 현재 폴더에서 \"2\"를 포함하는 파일 조회\n",
    "ls = gl.glob('*2*')\n",
    "print(ls)"
   ]
  },
  {
   "cell_type": "code",
   "execution_count": 34,
   "id": "4bb5a6b8",
   "metadata": {},
   "outputs": [
    {
     "name": "stdout",
     "output_type": "stream",
     "text": [
      "python 폴더와 하위 폴더들을 생성 했습니다.\n"
     ]
    }
   ],
   "source": [
    "import shutil #파일,폴더 관련 작업에 확장된 기능을 제공\n",
    "import os\n",
    "#현재 작업 위치에서 \"python\" 이라는 이름의 폴더가 없다면?\n",
    "if os.path.exists('python') == False:\n",
    "    #순환적으로 폴더를 생성함 -> exist_ok=True 옵션은 이미 존재하더라도 에러 발생 안함\n",
    "    os.makedirs('python/test/hello/world',exist_ok=True)\n",
    "    print('python 폴더와 하위 폴더들을 생성 했습니다.')\n",
    "\n",
    "#그렇지 않다면?\n",
    "else:\n",
    "    #비어있지 않은 폴더도 강제 삭제 -> 존재하지 않는 폴더인 경우 에러\n",
    "    shutil.rmtree('python')\n",
    "    print('python폴더가 삭제되었습니다.')"
   ]
  },
  {
   "cell_type": "code",
   "execution_count": 39,
   "id": "e8ca1831",
   "metadata": {},
   "outputs": [],
   "source": [
    "# 폴더의 이동\n",
    "if os.path.exists('python'):\n",
    "    shutil.move('python','../created')\n",
    "    print('python 폴더가 ../created')\n",
    "    print('python 폴더가 ..created 폴더로 이동되었습니다.')"
   ]
  },
  {
   "cell_type": "code",
   "execution_count": 40,
   "id": "38592946",
   "metadata": {},
   "outputs": [
    {
     "name": "stdout",
     "output_type": "stream",
     "text": [
      "python 폴더가 copy로 복사되었습니다.\n"
     ]
    }
   ],
   "source": [
    "#폴더의 복사\n",
    "if os.path.exists('../created'):\n",
    "    shutil.copytree('../created', './copy')\n",
    "    print('python 폴더가 copy로 복사되었습니다.')"
   ]
  },
  {
   "cell_type": "code",
   "execution_count": 46,
   "id": "d17ef81d",
   "metadata": {},
   "outputs": [
    {
     "name": "stdout",
     "output_type": "stream",
     "text": [
      "hello.txt가 삭제되었습니다.\n",
      "world.txt가 삭제되었습니다.\n"
     ]
    }
   ],
   "source": [
    "if os.path.exists('hello.txt') ==False:\n",
    "    with open(\"hello.txt\", \"w\", encoding=\"utf-8\")as f:\n",
    "        f.write(\"Life is too short, you need python\")\n",
    "        print('hello.txt 파일을 생성했습니다.')\n",
    "\n",
    "        shutil.copy('hello.txt', 'world.txt')\n",
    "        print('hello.txt가 world.txt로 복사되었습니다.')\n",
    "\n",
    "else:\n",
    "    os.remove('hello.txt')\n",
    "    print('hello.txt가 삭제되었습니다.')\n",
    "    os.remove('world.txt')\n",
    "    print('world.txt가 삭제되었습니다.')\n"
   ]
  },
  {
   "cell_type": "code",
   "execution_count": 48,
   "id": "4021df15",
   "metadata": {},
   "outputs": [],
   "source": [
    "# 모듈 참조\n",
    "#-> 날짜 처리 모듈(datedime)에 dt라는 별칭 적용\n",
    "import datetime as dt"
   ]
  },
  {
   "cell_type": "code",
   "execution_count": 51,
   "id": "3eb56500",
   "metadata": {},
   "outputs": [
    {
     "name": "stdout",
     "output_type": "stream",
     "text": [
      "2025-10-24 15:46:04.534442\n"
     ]
    }
   ],
   "source": [
    "# 현재 시각을 갖는 객체 가져오기\n",
    "now_time = dt.datetime.now()\n",
    "print(now_time)"
   ]
  },
  {
   "cell_type": "code",
   "execution_count": 53,
   "id": "76d218bb",
   "metadata": {},
   "outputs": [
    {
     "name": "stdout",
     "output_type": "stream",
     "text": [
      "지금은 2025년 10월 24일 입니다.\n"
     ]
    }
   ],
   "source": [
    "msg = \"지금은 %d년 %d월 %d일 입니다.\"\n",
    "print(msg % (now_time.year, now_time.month, now_time.day))"
   ]
  },
  {
   "cell_type": "code",
   "execution_count": null,
   "id": "8dfb1370",
   "metadata": {},
   "outputs": [
    {
     "name": "stdout",
     "output_type": "stream",
     "text": [
      "지금은 15시 46분 4초 입니다.\n"
     ]
    }
   ],
   "source": [
    "msg = \"지금은 %d시 %d분 %d초 입니다.\"\n",
    "print(msg % (now_time.hour,now_time.minute,now_time.second))"
   ]
  },
  {
   "cell_type": "code",
   "execution_count": 68,
   "id": "062298c3",
   "metadata": {},
   "outputs": [
    {
     "name": "stdout",
     "output_type": "stream",
     "text": [
      "4\n",
      "금\n"
     ]
    }
   ],
   "source": [
    "d = now_time.weekday()\n",
    "print(d)\n",
    "\n",
    "days = (\"월\",\"화\",\"수\",\"목\",\"금\")\n",
    "print(days[d])"
   ]
  },
  {
   "cell_type": "code",
   "execution_count": 70,
   "id": "d38a0963",
   "metadata": {},
   "outputs": [],
   "source": [
    "import os\n",
    "\n",
    "from smtplib import SMTP\n",
    "from email.mime.text import MIMEText\n",
    "from email.mime.application import MIMEApplication\n",
    "from email.mime.multipart import MIMEMultipart"
   ]
  },
  {
   "cell_type": "code",
   "execution_count": 88,
   "id": "f7eb526a",
   "metadata": {},
   "outputs": [],
   "source": [
    "# 보내는 사람 주소 (로그인 계정과 동일해야 함)\n",
    "from_addr = \"wldud1837@naver.com\"\n",
    "\n",
    "to_addr =\"leekh4232@yonsei.ac.kr\"\n",
    "\n",
    "subject = \"파이썬\"\n",
    "\n",
    "content=\"\"\"**이번주 월화수 복습해오기**\"\"\"\n",
    "files=[\"hellopython.txt\"]\n"
   ]
  },
  {
   "cell_type": "code",
   "execution_count": 86,
   "id": "8ca04ec2",
   "metadata": {},
   "outputs": [],
   "source": [
    "content_type = \"plain\"\n",
    "\n",
    "username='wldud1837'\n",
    "\n",
    "password=\"6E3V7NEXZ9K8\"\n",
    "\n",
    "smtp = \"smtp.naver.com\"\n",
    "port = 465"
   ]
  },
  {
   "cell_type": "code",
   "execution_count": 74,
   "id": "85b49bbc",
   "metadata": {},
   "outputs": [],
   "source": [
    "msg = MIMEMultipart()\n",
    "\n",
    "msg['Subject']= subject\n",
    "msg['From'] =from_addr\n",
    "msg['To'] = to_addr\n",
    "msg.attach(MIMEText(content,content_type))\n"
   ]
  },
  {
   "cell_type": "code",
   "execution_count": 90,
   "id": "471e906d",
   "metadata": {},
   "outputs": [
    {
     "data": {
      "text/plain": [
       "(221, b'2.0.0 Closing connection y4uVGvxlSkuT8bwEpK+khw - nsmtp')"
      ]
     },
     "execution_count": 90,
     "metadata": {},
     "output_type": "execute_result"
    }
   ],
   "source": [
    "mail = SMTP(smtp)\n",
    "\n",
    "mail.ehlo\n",
    "\n",
    "\n",
    "mail.starttls()\n",
    "mail.login(username, password)\n",
    "mail.sendmail(from_addr, to_addr,msg.as_string())\n",
    "mail.quit()"
   ]
  },
  {
   "cell_type": "code",
   "execution_count": 92,
   "id": "0bc478ac",
   "metadata": {},
   "outputs": [
    {
     "name": "stdout",
     "output_type": "stream",
     "text": [
      "25-10-24 15:46:04\n"
     ]
    }
   ],
   "source": [
    "print(now_time.strftime(\"%y-%m-%d %H:%M:%S\"))"
   ]
  },
  {
   "cell_type": "code",
   "execution_count": 94,
   "id": "250b053f",
   "metadata": {},
   "outputs": [
    {
     "name": "stdout",
     "output_type": "stream",
     "text": [
      "2025년 10월 24일 15시 46분 04초\n"
     ]
    }
   ],
   "source": [
    "print(now_time.strftime(\"%Y년 %m월 %d일 %H시 %M분 %S초\"))"
   ]
  },
  {
   "cell_type": "code",
   "execution_count": 96,
   "id": "c1abb6f3",
   "metadata": {},
   "outputs": [
    {
     "name": "stdout",
     "output_type": "stream",
     "text": [
      "17-01-02 14:44:00\n"
     ]
    }
   ],
   "source": [
    "date_str = \"2017년 01월 02일 14시 44분\"\n",
    "\n",
    "oldday = dt.datetime.strptime(date_str, \"%Y년 %m월 %d일  %H시 %M분\")\n",
    "print(oldday.strftime(\"%y-%m-%d %H:%M:%S\"))"
   ]
  },
  {
   "cell_type": "code",
   "execution_count": 99,
   "id": "4f11d54b",
   "metadata": {},
   "outputs": [
    {
     "name": "stdout",
     "output_type": "stream",
     "text": [
      "25-10-24 17:56:15\n",
      "18-10-16 15:56:15\n"
     ]
    }
   ],
   "source": [
    "foo = dt.datetime.now()\n",
    "print(foo.strftime(\"%y-%m-%d %H:%M:%S\"))\n",
    "\n",
    "change_date=foo.replace(year=2018, day=16, hour=15)\n",
    "print(change_date.strftime(\"%y-%m-%d %H:%M:%S\"))"
   ]
  },
  {
   "cell_type": "code",
   "execution_count": 101,
   "id": "209e406f",
   "metadata": {},
   "outputs": [
    {
     "name": "stdout",
     "output_type": "stream",
     "text": [
      "68 days, 5:58:19.131998\n"
     ]
    }
   ],
   "source": [
    "dt1 = dt.datetime.now()\n",
    "dt2 = dt.datetime(dt1.year+1,1,1,0,0,0)\n",
    "\n",
    "td = dt2-dt1\n",
    "print(td)"
   ]
  },
  {
   "cell_type": "code",
   "execution_count": 103,
   "id": "76ac6554",
   "metadata": {},
   "outputs": [
    {
     "name": "stdout",
     "output_type": "stream",
     "text": [
      "68\n",
      "21499\n",
      "올해는 68일 남았습니다.\n"
     ]
    }
   ],
   "source": [
    "print(td.days)\n",
    "\n",
    "print(td.seconds)\n",
    "print(\"올해는 %d일 남았습니다.\" % td.days)"
   ]
  },
  {
   "cell_type": "code",
   "execution_count": 105,
   "id": "b91ef53f",
   "metadata": {},
   "outputs": [
    {
     "name": "stdout",
     "output_type": "stream",
     "text": [
      "5896699.131998\n"
     ]
    }
   ],
   "source": [
    "result = td.total_seconds()\n",
    "print(result)"
   ]
  },
  {
   "cell_type": "code",
   "execution_count": 106,
   "id": "ad1d4ebb",
   "metadata": {},
   "outputs": [
    {
     "name": "stdout",
     "output_type": "stream",
     "text": [
      "2026-02-01 19:08:18\n"
     ]
    }
   ],
   "source": [
    "d = dt.timedelta(days=100, seconds=3600)\n",
    "\n",
    "now_time = dt.datetime.now()\n",
    "after_time = now_time+d\n",
    "print(after_time.strftime(\"%Y-%m-%d %H:%M:%S\"))"
   ]
  }
 ],
 "metadata": {
  "kernelspec": {
   "display_name": "Python 3",
   "language": "python",
   "name": "python3"
  },
  "language_info": {
   "codemirror_mode": {
    "name": "ipython",
    "version": 3
   },
   "file_extension": ".py",
   "mimetype": "text/x-python",
   "name": "python",
   "nbconvert_exporter": "python",
   "pygments_lexer": "ipython3",
   "version": "3.13.9"
  }
 },
 "nbformat": 4,
 "nbformat_minor": 5
}
