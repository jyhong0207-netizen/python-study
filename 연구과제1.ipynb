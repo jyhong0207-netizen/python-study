{
 "cells": [
  {
   "cell_type": "code",
   "execution_count": null,
   "id": "392261c3",
   "metadata": {},
   "outputs": [
    {
     "ename": "SyntaxError",
     "evalue": "invalid syntax (2980919034.py, line 1)",
     "output_type": "error",
     "traceback": [
      "  \u001b[36mCell\u001b[39m\u001b[36m \u001b[39m\u001b[32mIn[5]\u001b[39m\u001b[32m, line 1\u001b[39m\n\u001b[31m    \u001b[39m\u001b[31mUSE myschool;\u001b[39m\n        ^\n\u001b[31mSyntaxError\u001b[39m\u001b[31m:\u001b[39m invalid syntax\n"
     ]
    }
   ],
   "source": [
    "USE myschool;\n",
    "\n",
    "DROP TABLE IF EXISTS covid19;\n",
    "\n",
    "CREATE TABLE IF NOT EXISTS covid 19(\n",
    "    id INT NOT NULL AUTO_INCREMENT COMMENT'일련번호',\n",
    "    date DATE NOT NULL COMMENT'날짜',\n",
    "    seoul_confirm INT NOT NULL DEFAULT 0\n",
    "    COMMENT '서울시 확진자 수'\n",
    "    Seoul_death INT NOT NULL DEFAULT 0 COMMENT '서울시 사망자 수',\n",
    "    wide_confirm INT NOT NULL DEFAULT 0 COMMENT '전국 확진자 수',\n",
    "    wide_death INT NOT NULL DEFAULT 0 COMMENT '전국 사망자 수',\n",
    "    PRIMARY KEY(id)\n",
    ") DEFAULT CHARSET utf8 COLLATE utf8_bin COMMENT'코로나 19 일일확진/사망자';\n",
    "\n"
   ]
  },
  {
   "cell_type": "code",
   "execution_count": 7,
   "id": "63c2db94",
   "metadata": {},
   "outputs": [
    {
     "ename": "SyntaxError",
     "evalue": "invalid syntax (283325936.py, line 1)",
     "output_type": "error",
     "traceback": [
      "  \u001b[36mCell\u001b[39m\u001b[36m \u001b[39m\u001b[32mIn[7]\u001b[39m\u001b[32m, line 1\u001b[39m\n\u001b[31m    \u001b[39m\u001b[31mUSE myschool;\u001b[39m\n        ^\n\u001b[31mSyntaxError\u001b[39m\u001b[31m:\u001b[39m invalid syntax\n"
     ]
    }
   ],
   "source": [
    "USE myschool;\n",
    "\n",
    "DROP TABLE IF EXISTS covid19;\n",
    "\n",
    "CREATE TABLE IF NOT EXISTS covid19 (\n",
    "    id INT NOT NULL AUTO_INCREMENT COMMENT '일련번호',\n",
    "    `date` DATE NOT NULL COMMENT '날짜',\n",
    "    seoul_confirm INT NOT NULL DEFAULT 0 COMMENT '서울시 확진자 수',\n",
    "    seoul_death INT NOT NULL DEFAULT 0 COMMENT '서울시 사망자 수',\n",
    "    wide_confirm INT NOT NULL DEFAULT 0 COMMENT '전국 확진자 수',\n",
    "    wide_death INT NOT NULL DEFAULT 0 COMMENT '전국 사망자 수',\n",
    "    PRIMARY KEY (id)\n",
    ") DEFAULT CHARSET = utf8 COLLATE = utf8_bin COMMENT = '코로나 19 일일 확진/사망자';\n"
   ]
  },
  {
   "cell_type": "code",
   "execution_count": null,
   "id": "967a8bf8",
   "metadata": {},
   "outputs": [],
   "source": [
    "with open('covid19.csv,'r', encoding=\"euc-kr\") as f:\n",
    "          csv = f.readlines()\n",
    "print(csv[:5])"
   ]
  }
 ],
 "metadata": {
  "kernelspec": {
   "display_name": "Python 3",
   "language": "python",
   "name": "python3"
  },
  "language_info": {
   "codemirror_mode": {
    "name": "ipython",
    "version": 3
   },
   "file_extension": ".py",
   "mimetype": "text/x-python",
   "name": "python",
   "nbconvert_exporter": "python",
   "pygments_lexer": "ipython3",
   "version": "3.13.9"
  }
 },
 "nbformat": 4,
 "nbformat_minor": 5
}
