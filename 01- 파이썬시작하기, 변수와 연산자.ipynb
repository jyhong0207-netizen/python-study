{
 "cells": [
  {
   "cell_type": "code",
   "execution_count": 1,
   "id": "3877e945",
   "metadata": {},
   "outputs": [
    {
     "name": "stdout",
     "output_type": "stream",
     "text": [
      "Hello world\n"
     ]
    }
   ],
   "source": [
    "# 메시지를 출력하는 명령어\n",
    "print(\"Hello world\")"
   ]
  },
  {
   "cell_type": "code",
   "execution_count": 7,
   "id": "72d69a87",
   "metadata": {},
   "outputs": [
    {
     "name": "stdout",
     "output_type": "stream",
     "text": [
      "300\n"
     ]
    }
   ],
   "source": [
    "a = 100  #100을 의미하는 a라는 데이터 생성\n",
    "b = 200  #200을 의미하는 b라는 데이터 생성\n",
    "\n",
    "# 합산 결과 출력하기\n",
    "print(a+b)\n",
    "\n"
   ]
  },
  {
   "cell_type": "markdown",
   "id": "ad726662",
   "metadata": {},
   "source": [
    "##  #04. 변수의 이해\n",
    "\n",
    "### 다양한 변수 만들기\n"
   ]
  },
  {
   "cell_type": "code",
   "execution_count": 10,
   "id": "ba369f2c",
   "metadata": {},
   "outputs": [
    {
     "name": "stdout",
     "output_type": "stream",
     "text": [
      "123\n",
      "-456\n"
     ]
    }
   ],
   "source": [
    "# 변수 만들기 (오른쪽에서 왼쪽으로 대입 -> 최초대입을 초기화 라고 함)\n",
    "#-> 이름 = 값\n",
    "a = 123\n",
    "b = -456\n",
    "print(a)\n",
    "print(b)"
   ]
  },
  {
   "cell_type": "code",
   "execution_count": 13,
   "id": "add3bb2c",
   "metadata": {},
   "outputs": [
    {
     "name": "stdout",
     "output_type": "stream",
     "text": [
      "10000\n"
     ]
    }
   ],
   "source": [
    "# 한 번 할당된 변수는 다른 값으로 변경 가능\n",
    "a = 10000\n",
    "print(a)"
   ]
  },
  {
   "cell_type": "code",
   "execution_count": 15,
   "id": "8ebe0c77",
   "metadata": {},
   "outputs": [
    {
     "name": "stdout",
     "output_type": "stream",
     "text": [
      "1.2\n",
      "-3.45\n"
     ]
    }
   ],
   "source": [
    "# 실수형 변수 만들기\n",
    "c = 1.2\n",
    "d = -3.45\n",
    "print(c)\n",
    "print(d)\n"
   ]
  },
  {
   "cell_type": "code",
   "execution_count": 17,
   "id": "99269c45",
   "metadata": {},
   "outputs": [
    {
     "name": "stdout",
     "output_type": "stream",
     "text": [
      "True\n"
     ]
    }
   ],
   "source": [
    "### 논리형 변수\n",
    "a = True\n",
    "print(a)"
   ]
  },
  {
   "cell_type": "code",
   "execution_count": 19,
   "id": "29b3859c",
   "metadata": {},
   "outputs": [
    {
     "name": "stdout",
     "output_type": "stream",
     "text": [
      "False\n"
     ]
    }
   ],
   "source": [
    "b = False\n",
    "print(b)"
   ]
  },
  {
   "cell_type": "code",
   "execution_count": 21,
   "id": "75cc5181",
   "metadata": {},
   "outputs": [
    {
     "name": "stdout",
     "output_type": "stream",
     "text": [
      "안녕하세요. 파이썬\n"
     ]
    }
   ],
   "source": [
    "### 문자열 변수\n",
    "#문자열 변수\n",
    "msg = '안녕하세요. 파이썬'\n",
    "print(msg)"
   ]
  },
  {
   "cell_type": "code",
   "execution_count": 26,
   "id": "59cf07b4",
   "metadata": {},
   "outputs": [
    {
     "name": "stdout",
     "output_type": "stream",
     "text": [
      "None\n"
     ]
    }
   ],
   "source": [
    "###내용이 없는 변수\n",
    "hello = None\n",
    "print(hello)"
   ]
  },
  {
   "cell_type": "code",
   "execution_count": 27,
   "id": "f923af8e",
   "metadata": {},
   "outputs": [],
   "source": [
    "## #05. 연산자의 활용\n",
    "\n",
    "### 대입 연산자를 활용한 swap 처리"
   ]
  },
  {
   "cell_type": "code",
   "execution_count": 29,
   "id": "995f8fcf",
   "metadata": {},
   "outputs": [
    {
     "name": "stdout",
     "output_type": "stream",
     "text": [
      "1\n",
      "2\n",
      "2\n",
      "1\n"
     ]
    }
   ],
   "source": [
    "a = 1\n",
    "b = 2\n",
    "print(a)\n",
    "print(b)\n",
    "\n",
    "a, b = b,a\n",
    "print(a)\n",
    "print(b)"
   ]
  },
  {
   "cell_type": "markdown",
   "id": "8e68deab",
   "metadata": {},
   "source": [
    "###산술 연산자 사용하기"
   ]
  },
  {
   "cell_type": "code",
   "execution_count": 37,
   "id": "994e5753",
   "metadata": {},
   "outputs": [
    {
     "name": "stdout",
     "output_type": "stream",
     "text": [
      "7\n"
     ]
    }
   ],
   "source": [
    "# 연산 결과는 새로운 변수에 할당 하거나 직접 출력 가능\n",
    "a = 3\n",
    "b = 4\n",
    "c = a+b\n",
    "print(c)"
   ]
  },
  {
   "cell_type": "code",
   "execution_count": 39,
   "id": "b6b0ab10",
   "metadata": {},
   "outputs": [
    {
     "name": "stdout",
     "output_type": "stream",
     "text": [
      "-1\n",
      "12\n",
      "0.75\n"
     ]
    }
   ],
   "source": [
    "# 연산결과 직접 출력\n",
    "print(a-b)\n",
    "print(a*b)\n",
    "print(a/b)"
   ]
  },
  {
   "cell_type": "markdown",
   "id": "e4afe23f",
   "metadata": {},
   "source": [
    "### 나눗셈과 거듭제곱\n"
   ]
  },
  {
   "cell_type": "code",
   "execution_count": 44,
   "id": "5652d84f",
   "metadata": {},
   "outputs": [
    {
     "name": "stdout",
     "output_type": "stream",
     "text": [
      "3.3333333333333335\n"
     ]
    }
   ],
   "source": [
    "# 나눗셈의 몫을 구한다\n",
    "#-> 처리 가능한 단위까지 계산함(마지막 오차발생)\n",
    "print(10/3)\n"
   ]
  },
  {
   "cell_type": "code",
   "execution_count": 46,
   "id": "67d244a9",
   "metadata": {},
   "outputs": [
    {
     "name": "stdout",
     "output_type": "stream",
     "text": [
      "3\n"
     ]
    }
   ],
   "source": [
    "# 나눗셈에서  소수점 아래를 버리고 몫만 계산\n",
    "print (10//3)"
   ]
  },
  {
   "cell_type": "code",
   "execution_count": 64,
   "id": "e4a1341a",
   "metadata": {},
   "outputs": [
    {
     "name": "stdout",
     "output_type": "stream",
     "text": [
      "1\n"
     ]
    }
   ],
   "source": [
    "# 나눗셈의 나머지를 구한다.\n",
    "# -> 정수 단위에서만 연산후 종료.\n",
    "print( 10%3)"
   ]
  },
  {
   "cell_type": "code",
   "execution_count": 65,
   "id": "6331b663",
   "metadata": {},
   "outputs": [
    {
     "name": "stdout",
     "output_type": "stream",
     "text": [
      "243\n"
     ]
    }
   ],
   "source": [
    "# 거듭제곱\n",
    "print(3**5)"
   ]
  },
  {
   "cell_type": "markdown",
   "id": "9df23963",
   "metadata": {},
   "source": [
    "### 단항 연산지\n"
   ]
  },
  {
   "cell_type": "code",
   "execution_count": 69,
   "id": "5faf2084",
   "metadata": {},
   "outputs": [
    {
     "name": "stdout",
     "output_type": "stream",
     "text": [
      "1\n"
     ]
    }
   ],
   "source": [
    "a = 1\n",
    "a += 100  # 100 + 1-> 101\n",
    "a *= 10 # 101 * 10 -> 1010\n",
    "a //=3  # 1010//3 -> 336\n",
    "a %=5   # 336 % 5 -> 1\n",
    "print(a)"
   ]
  },
  {
   "cell_type": "code",
   "execution_count": 70,
   "id": "807adce6",
   "metadata": {},
   "outputs": [],
   "source": [
    "### 비교 연산자 "
   ]
  },
  {
   "cell_type": "code",
   "execution_count": 72,
   "id": "d761f387",
   "metadata": {},
   "outputs": [
    {
     "name": "stdout",
     "output_type": "stream",
     "text": [
      "False\n",
      "True\n",
      "True\n",
      "True\n",
      "False\n",
      "False\n"
     ]
    }
   ],
   "source": [
    "# 결과값이 True 혹은 False가 된다.\n",
    "print(100==50)\n",
    "print(100!=50)\n",
    "print(100>=50)\n",
    "print(100>50)\n",
    "print(100<50)\n",
    "print(100 <=50)"
   ]
  },
  {
   "cell_type": "code",
   "execution_count": 74,
   "id": "3334365a",
   "metadata": {},
   "outputs": [
    {
     "name": "stdout",
     "output_type": "stream",
     "text": [
      "True\n"
     ]
    }
   ],
   "source": [
    "# 비교연산도 하나의 수식이므로 결과를 다른 변수에 할당 가능함\n",
    "result = 100>50\n",
    "print(result)"
   ]
  },
  {
   "cell_type": "code",
   "execution_count": 75,
   "id": "930055f4",
   "metadata": {},
   "outputs": [],
   "source": [
    "### 논리 연산자"
   ]
  },
  {
   "cell_type": "code",
   "execution_count": 77,
   "id": "c18eb019",
   "metadata": {},
   "outputs": [
    {
     "name": "stdout",
     "output_type": "stream",
     "text": [
      "True\n",
      "False\n",
      "False\n",
      "False\n"
     ]
    }
   ],
   "source": [
    "# 논리연산자 (and) --> 전체가 Ttue인 경우만 결과값이 True\n",
    "print( True and True)\n",
    "print(True and False)\n",
    "print(False and True)\n",
    "print(False and False)"
   ]
  },
  {
   "cell_type": "code",
   "execution_count": 79,
   "id": "206b58af",
   "metadata": {},
   "outputs": [
    {
     "name": "stdout",
     "output_type": "stream",
     "text": [
      "True\n",
      "True\n",
      "True\n",
      "False\n"
     ]
    }
   ],
   "source": [
    "# 논리 연산자 (or) --> 하나라도 True가 포함되어 있다면 결과값이 True\n",
    "print(True or True)\n",
    "print(True or False)\n",
    "print(False or True)\n",
    "print(False or False)"
   ]
  },
  {
   "cell_type": "code",
   "execution_count": 81,
   "id": "31c4a1f5",
   "metadata": {},
   "outputs": [
    {
     "name": "stdout",
     "output_type": "stream",
     "text": [
      "False\n"
     ]
    }
   ],
   "source": [
    "# True에 대한 부정\n",
    "print(not True)"
   ]
  },
  {
   "cell_type": "code",
   "execution_count": 82,
   "id": "807f86b1",
   "metadata": {},
   "outputs": [
    {
     "name": "stdout",
     "output_type": "stream",
     "text": [
      "True\n"
     ]
    }
   ],
   "source": [
    "# False에 대한 부정\n",
    "print (not False)"
   ]
  },
  {
   "cell_type": "code",
   "execution_count": 84,
   "id": "3832be2f",
   "metadata": {},
   "outputs": [
    {
     "name": "stdout",
     "output_type": "stream",
     "text": [
      "False\n"
     ]
    }
   ],
   "source": [
    "# 논리값을 저장하는 변수를 부정하여 그 결과를 다른 변수에 할당\n",
    "mybool = True\n",
    "reverse = not mybool\n",
    "print(reverse)"
   ]
  },
  {
   "cell_type": "code",
   "execution_count": 85,
   "id": "3b35ea33",
   "metadata": {},
   "outputs": [],
   "source": [
    "### 비교 연산과 논리 연산의 결합"
   ]
  },
  {
   "cell_type": "code",
   "execution_count": 88,
   "id": "3164a6a4",
   "metadata": {},
   "outputs": [
    {
     "name": "stdout",
     "output_type": "stream",
     "text": [
      "True\n"
     ]
    }
   ],
   "source": [
    "# 비교연산의 결과값은 bool형식이므로 논리 연산이 가능함\n",
    "a=100>50\n",
    "b=20>10\n",
    "print(a and b)"
   ]
  },
  {
   "cell_type": "code",
   "execution_count": 91,
   "id": "793b6709",
   "metadata": {},
   "outputs": [
    {
     "name": "stdout",
     "output_type": "stream",
     "text": [
      "False\n"
     ]
    }
   ],
   "source": [
    "# \"비교 연산 --> 논리 연산\"의 순서로 처리됨\n",
    "c = 100>=100 and 50==10\n",
    "print(c)"
   ]
  },
  {
   "cell_type": "code",
   "execution_count": 1,
   "id": "f269c878",
   "metadata": {},
   "outputs": [
    {
     "name": "stdout",
     "output_type": "stream",
     "text": [
      "True\n"
     ]
    }
   ],
   "source": [
    "print(100 != 200 and 100 == 100)"
   ]
  },
  {
   "cell_type": "code",
   "execution_count": null,
   "id": "a97a624a",
   "metadata": {},
   "outputs": [],
   "source": []
  }
 ],
 "metadata": {
  "kernelspec": {
   "display_name": "Python 3",
   "language": "python",
   "name": "python3"
  },
  "language_info": {
   "codemirror_mode": {
    "name": "ipython",
    "version": 3
   },
   "file_extension": ".py",
   "mimetype": "text/x-python",
   "name": "python",
   "nbconvert_exporter": "python",
   "pygments_lexer": "ipython3",
   "version": "3.13.9"
  }
 },
 "nbformat": 4,
 "nbformat_minor": 5
}
