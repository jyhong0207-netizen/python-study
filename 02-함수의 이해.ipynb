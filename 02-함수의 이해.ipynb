{
 "cells": [
  {
   "cell_type": "code",
   "execution_count": null,
   "id": "8b19ef08",
   "metadata": {},
   "outputs": [
    {
     "name": "stdout",
     "output_type": "stream",
     "text": [
      "<class 'int'>\n"
     ]
    }
   ],
   "source": [
    "#정수형 변수의 데이터 타입 확인\n",
    "#age = 20\n",
    "typeOfAge = type(age)\n",
    "print(typeOfAge)\n"
   ]
  },
  {
   "cell_type": "code",
   "execution_count": null,
   "id": "935f9a98",
   "metadata": {},
   "outputs": [
    {
     "name": "stdout",
     "output_type": "stream",
     "text": [
      "<class 'float'>\n"
     ]
    }
   ],
   "source": [
    "# 실수형 변수의 데이터 타입 확인\n",
    "pi = 3.14\n",
    "typeOfPi = type(pi)\n",
    "print(typeOfPi)"
   ]
  },
  {
   "cell_type": "code",
   "execution_count": 6,
   "id": "ab995fd6",
   "metadata": {},
   "outputs": [
    {
     "name": "stdout",
     "output_type": "stream",
     "text": [
      "<class 'str'>\n"
     ]
    }
   ],
   "source": [
    "# 문자열 변수의 데이터 타입 확인\n",
    "message = \"Hello Python\"\n",
    "typeOfMessage = type(message)\n",
    "print(typeOfMessage)"
   ]
  },
  {
   "cell_type": "code",
   "execution_count": 9,
   "id": "9a6651b4",
   "metadata": {},
   "outputs": [
    {
     "name": "stdout",
     "output_type": "stream",
     "text": [
      "<class 'bool'>\n"
     ]
    }
   ],
   "source": [
    "# 논리형 변수의 데이터 타입 확인\n",
    "ok = True\n",
    "typeOfOk = type(ok)\n",
    "print(typeOfOk)"
   ]
  },
  {
   "cell_type": "code",
   "execution_count": 11,
   "id": "827efb1c",
   "metadata": {},
   "outputs": [
    {
     "name": "stdout",
     "output_type": "stream",
     "text": [
      "Life isshort 100 3.14 True\n"
     ]
    }
   ],
   "source": [
    "# 출력하고자 하는 모든 형태의 값을 파라미터로 전달한다.\n",
    "# -> 문자열 이외의 다른 데이터 타입의 변수도 사용 가능함\n",
    "a = 100\n",
    "b = 3.14\n",
    "c = True\n",
    "print(\"Life\", \"is\" \"short\", a,b,c)"
   ]
  },
  {
   "cell_type": "code",
   "execution_count": 14,
   "id": "1bb648e7",
   "metadata": {},
   "outputs": [
    {
     "name": "stdout",
     "output_type": "stream",
     "text": [
      "123\n",
      "<class 'str'>\n"
     ]
    }
   ],
   "source": [
    "# 문자열 입력받기\n",
    "msg1 = input(\"메세지를 입력하세요\")\n",
    "print(msg1)\n",
    "#입력 받은 내용의 데이터 타입 확인 --> 문자열(str)\n",
    "t = type(msg1)\n",
    "print(t)"
   ]
  },
  {
   "cell_type": "code",
   "execution_count": null,
   "id": "7f3d8369",
   "metadata": {},
   "outputs": [
    {
     "name": "stdout",
     "output_type": "stream",
     "text": [
      "234\n",
      "<class 'int'>\n"
     ]
    }
   ],
   "source": [
    "#입력받은 값을 정수 타입으로 변환 \n",
    "msg2 = input(\"정수를 입력하세요\")\n",
    "num = int(msg2)\n",
    "print(num)\n",
    " #변환 결과의 데이터 타입 확인 --> 정수(int)\n",
    "num_type = type(num)\n",
    "print(num_type)\n"
   ]
  },
  {
   "cell_type": "code",
   "execution_count": 4,
   "id": "298086cd",
   "metadata": {},
   "outputs": [
    {
     "name": "stdout",
     "output_type": "stream",
     "text": [
      "123.45\n",
      "<class 'float'>\n"
     ]
    }
   ],
   "source": [
    "# 입력받은 값을 실수 타입으로 변환\n",
    "msg3 = input(\"실수를 입력하세요\")\n",
    "fnum = float(msg3)\n",
    "print(fnum)\n",
    "\n",
    "# 변환 결과의 데이터 타입 확인 --> 실수(float)\n",
    "fnum_type = type(fnum)\n",
    "print(fnum_type)"
   ]
  },
  {
   "cell_type": "code",
   "execution_count": 2,
   "id": "65fce59a",
   "metadata": {},
   "outputs": [
    {
     "name": "stdout",
     "output_type": "stream",
     "text": [
      "100.0\n",
      "<class 'float'>\n"
     ]
    }
   ],
   "source": [
    "# 정수를 실수로 변환 --> 정수 뒤에 \".0\"이 추가됨\n",
    "num1 = 100\n",
    "num2 = float(num1)\n",
    "print(num2)\n",
    "\n",
    "#변환 결과의 데이터 타입 확인 --> 실수(float)\n",
    "t1 = type(num2)\n",
    "print(t1)\n"
   ]
  },
  {
   "cell_type": "code",
   "execution_count": 8,
   "id": "dd4cb531",
   "metadata": {},
   "outputs": [
    {
     "name": "stdout",
     "output_type": "stream",
     "text": [
      "123\n",
      "<class 'int'>\n"
     ]
    }
   ],
   "source": [
    "#  실수를 정수로 변환 --> 소수점 버림\n",
    "num3 = 123.78\n",
    "num4 = int(num3)\n",
    "print(num4)\n",
    "\n",
    "# 변환 결과의 데이터 타입 확인--> 정수(int)\n",
    "t2 = type(num4)\n",
    "print(t2)"
   ]
  },
  {
   "cell_type": "code",
   "execution_count": 14,
   "id": "db754c2d",
   "metadata": {},
   "outputs": [
    {
     "name": "stdout",
     "output_type": "stream",
     "text": [
      "<class 'int'> <class 'str'>\n"
     ]
    }
   ],
   "source": [
    "num1 =100\n",
    "s1 = str(num1)\n",
    "print(type(num1), type(s1))"
   ]
  },
  {
   "cell_type": "code",
   "execution_count": 16,
   "id": "42980016",
   "metadata": {},
   "outputs": [
    {
     "name": "stdout",
     "output_type": "stream",
     "text": [
      "<class 'float'> <class 'str'>\n"
     ]
    }
   ],
   "source": [
    "num2 = 3.14\n",
    "s2 = str(num2)\n",
    "print(type(num2),type(s2))"
   ]
  },
  {
   "cell_type": "code",
   "execution_count": 18,
   "id": "fb2a60d4",
   "metadata": {},
   "outputs": [
    {
     "name": "stdout",
     "output_type": "stream",
     "text": [
      "256\n"
     ]
    }
   ],
   "source": [
    "# 제곱근 구하기 -> '2**8' 연산과 동일한 결과.\n",
    "a = pow(2,8)\n",
    "print(a)"
   ]
  },
  {
   "cell_type": "code",
   "execution_count": 20,
   "id": "48d4022f",
   "metadata": {},
   "outputs": [
    {
     "name": "stdout",
     "output_type": "stream",
     "text": [
      "100\n",
      "100\n",
      "12.345\n"
     ]
    }
   ],
   "source": [
    "# 절대값 구하기\n",
    "a = abs(100)\n",
    "print(a)\n",
    "\n",
    "b = abs(-100)\n",
    "print(b)\n",
    "\n",
    "c= abs(-12.345)\n",
    "print(c)"
   ]
  },
  {
   "cell_type": "code",
   "execution_count": 22,
   "id": "923969ac",
   "metadata": {},
   "outputs": [
    {
     "name": "stdout",
     "output_type": "stream",
     "text": [
      "124\n"
     ]
    }
   ],
   "source": [
    "# 소수점 반올림 후 정수만 출력\n",
    "n = round(123.78)\n",
    "print(n)"
   ]
  },
  {
   "cell_type": "code",
   "execution_count": 24,
   "id": "8a460899",
   "metadata": {},
   "outputs": [
    {
     "name": "stdout",
     "output_type": "stream",
     "text": [
      "123.8\n"
     ]
    }
   ],
   "source": [
    "# 소수점 첫째 자리까지만 남기고 반올림\n",
    "n2 = round(123.76,1)\n",
    "print(n2)"
   ]
  },
  {
   "cell_type": "code",
   "execution_count": 31,
   "id": "c53052ee",
   "metadata": {},
   "outputs": [
    {
     "name": "stdout",
     "output_type": "stream",
     "text": [
      "Hello Pythom\n",
      "안녕 파이썬\n",
      "Hello Pythom\n",
      "안녕 파이썬\n"
     ]
    }
   ],
   "source": [
    "def say_hello():\n",
    "    print(\"Hello Pythom\")\n",
    "    print(\"안녕 파이썬\")\n",
    "say_hello()\n",
    "say_hello()"
   ]
  },
  {
   "cell_type": "code",
   "execution_count": 37,
   "id": "64d83594",
   "metadata": {},
   "outputs": [],
   "source": [
    "def f(x):\n",
    "    y = x+1\n",
    "    print(y)\n",
    "\n"
   ]
  },
  {
   "cell_type": "code",
   "execution_count": 40,
   "id": "5a891e7e",
   "metadata": {},
   "outputs": [
    {
     "name": "stdout",
     "output_type": "stream",
     "text": [
      "3\n"
     ]
    }
   ],
   "source": [
    "f(2)"
   ]
  },
  {
   "cell_type": "code",
   "execution_count": 42,
   "id": "de8d473e",
   "metadata": {},
   "outputs": [
    {
     "name": "stdout",
     "output_type": "stream",
     "text": [
      "4\n"
     ]
    }
   ],
   "source": [
    "f(3)"
   ]
  },
  {
   "cell_type": "code",
   "execution_count": 44,
   "id": "7284c5f3",
   "metadata": {},
   "outputs": [],
   "source": [
    "def foo(count):\n",
    "    x = count * 10\n",
    "    print(x)"
   ]
  },
  {
   "cell_type": "code",
   "execution_count": 46,
   "id": "836e68c4",
   "metadata": {},
   "outputs": [
    {
     "name": "stdout",
     "output_type": "stream",
     "text": [
      "20\n"
     ]
    }
   ],
   "source": [
    "foo(2)"
   ]
  },
  {
   "cell_type": "code",
   "execution_count": 48,
   "id": "366ec20e",
   "metadata": {},
   "outputs": [
    {
     "ename": "TypeError",
     "evalue": "foo() missing 1 required positional argument: 'count'",
     "output_type": "error",
     "traceback": [
      "\u001b[31m---------------------------------------------------------------------------\u001b[39m",
      "\u001b[31mTypeError\u001b[39m                                 Traceback (most recent call last)",
      "\u001b[36mCell\u001b[39m\u001b[36m \u001b[39m\u001b[32mIn[48]\u001b[39m\u001b[32m, line 1\u001b[39m\n\u001b[32m----> \u001b[39m\u001b[32m1\u001b[39m \u001b[43mfoo\u001b[49m\u001b[43m(\u001b[49m\u001b[43m)\u001b[49m\n",
      "\u001b[31mTypeError\u001b[39m: foo() missing 1 required positional argument: 'count'"
     ]
    }
   ],
   "source": [
    "foo()"
   ]
  },
  {
   "cell_type": "code",
   "execution_count": 50,
   "id": "4115cb27",
   "metadata": {},
   "outputs": [],
   "source": [
    "def f(x):\n",
    "    y = x+1\n",
    "    print(y)"
   ]
  },
  {
   "cell_type": "code",
   "execution_count": 52,
   "id": "ebef118f",
   "metadata": {},
   "outputs": [
    {
     "name": "stdout",
     "output_type": "stream",
     "text": [
      "3\n"
     ]
    }
   ],
   "source": [
    "f(2)"
   ]
  },
  {
   "cell_type": "code",
   "execution_count": 54,
   "id": "e363a885",
   "metadata": {},
   "outputs": [
    {
     "name": "stdout",
     "output_type": "stream",
     "text": [
      "4\n"
     ]
    }
   ],
   "source": [
    "f(3)"
   ]
  },
  {
   "cell_type": "code",
   "execution_count": 56,
   "id": "fbc20ba4",
   "metadata": {},
   "outputs": [],
   "source": [
    "def hello(x,y):\n",
    "    z=x+y\n",
    "    print(z)"
   ]
  },
  {
   "cell_type": "code",
   "execution_count": 58,
   "id": "bae0d344",
   "metadata": {},
   "outputs": [
    {
     "name": "stdout",
     "output_type": "stream",
     "text": [
      "3\n"
     ]
    }
   ],
   "source": [
    "hello(2,1)"
   ]
  },
  {
   "cell_type": "code",
   "execution_count": 60,
   "id": "8a4f9fd5",
   "metadata": {},
   "outputs": [
    {
     "name": "stdout",
     "output_type": "stream",
     "text": [
      "8\n"
     ]
    }
   ],
   "source": [
    "hello(5,3)"
   ]
  },
  {
   "cell_type": "code",
   "execution_count": 62,
   "id": "f9357cd0",
   "metadata": {},
   "outputs": [],
   "source": [
    "def sum1(x,y,z=0):\n",
    "    answer = x+y+z\n",
    "    print(answer)"
   ]
  },
  {
   "cell_type": "code",
   "execution_count": 64,
   "id": "419006ec",
   "metadata": {},
   "outputs": [
    {
     "name": "stdout",
     "output_type": "stream",
     "text": [
      "6\n"
     ]
    }
   ],
   "source": [
    "# 모든 파라미터값을 전달하며 함수 호출\n",
    "sum1(1,2,3)"
   ]
  },
  {
   "cell_type": "code",
   "execution_count": 66,
   "id": "babac723",
   "metadata": {},
   "outputs": [
    {
     "name": "stdout",
     "output_type": "stream",
     "text": [
      "30\n"
     ]
    }
   ],
   "source": [
    "#초기값이 설정된 파라미터는 호출시에 생략 가능함. -> 생략된 파라미터는 초기앖으로 설정된다.\n",
    "sum1(10,20)"
   ]
  },
  {
   "cell_type": "code",
   "execution_count": 68,
   "id": "058310e7",
   "metadata": {},
   "outputs": [],
   "source": [
    "def sum2(a,b,c=0,d=0):\n",
    "    answer = a+b+c+d\n",
    "    print(answer)"
   ]
  },
  {
   "cell_type": "code",
   "execution_count": 69,
   "id": "c75ff048",
   "metadata": {},
   "outputs": [
    {
     "name": "stdout",
     "output_type": "stream",
     "text": [
      "10\n"
     ]
    }
   ],
   "source": [
    "# 파라미터의 이름을 지정한 함수 호출 -> 파라미터 전달 순서를 무시할 수 잇다.\n",
    "sum2(d=3, c=4,b=2,a=1)"
   ]
  },
  {
   "cell_type": "code",
   "execution_count": 71,
   "id": "08d7eedb",
   "metadata": {},
   "outputs": [
    {
     "name": "stdout",
     "output_type": "stream",
     "text": [
      "3\n"
     ]
    }
   ],
   "source": [
    "# 함수에 정의된 기본값 활용\n",
    "sum2(1, b=2)"
   ]
  },
  {
   "cell_type": "code",
   "execution_count": null,
   "id": "1d8b47bc",
   "metadata": {},
   "outputs": [],
   "source": [
    "def plus(x,y):\n",
    "    z = x+y\n",
    "    return z #자신이 호출뒨 위치로 값을 되돌려준다."
   ]
  },
  {
   "cell_type": "code",
   "execution_count": null,
   "id": "fb678b3e",
   "metadata": {},
   "outputs": [
    {
     "name": "stdout",
     "output_type": "stream",
     "text": [
      "30\n"
     ]
    }
   ],
   "source": [
    "a = plus(10,20)\n",
    "print(a)#리턴값을 다른 변수에 할당하기"
   ]
  },
  {
   "cell_type": "code",
   "execution_count": 78,
   "id": "a911257a",
   "metadata": {},
   "outputs": [
    {
     "name": "stdout",
     "output_type": "stream",
     "text": [
      "300\n"
     ]
    }
   ],
   "source": [
    "print( plus(100,200))# 리턴값을 갖는 함수는 그 결과를 직접 출력할 수 있다.\n"
   ]
  },
  {
   "cell_type": "code",
   "execution_count": 81,
   "id": "71ac1a4f",
   "metadata": {},
   "outputs": [
    {
     "name": "stdout",
     "output_type": "stream",
     "text": [
      "112\n"
     ]
    }
   ],
   "source": [
    "b = plus(5,7)+100\n",
    "print (b)"
   ]
  },
  {
   "cell_type": "code",
   "execution_count": 83,
   "id": "1e806348",
   "metadata": {},
   "outputs": [
    {
     "name": "stdout",
     "output_type": "stream",
     "text": [
      "시험시작\n"
     ]
    }
   ],
   "source": [
    "print(\"시험시작\")\n",
    "score = int(input(\"점수를 입력하세요\"))\n",
    "if score>=60:\n",
    "    print(\"합격입니다.\")\n",
    "\n",
    "    print(\"시험 끝\")\n"
   ]
  },
  {
   "cell_type": "code",
   "execution_count": 95,
   "id": "af7622fc",
   "metadata": {},
   "outputs": [
    {
     "name": "stdout",
     "output_type": "stream",
     "text": [
      "택시를 타고\n",
      "집에가자\n"
     ]
    }
   ],
   "source": [
    "money =10000\n",
    "#money = 0\n",
    "if money:\n",
    "    print(\"택시를 타고\")\n",
    "\n",
    "    print(\"집에가자\")"
   ]
  },
  {
   "cell_type": "code",
   "execution_count": 97,
   "id": "665db6f6",
   "metadata": {},
   "outputs": [
    {
     "name": "stdout",
     "output_type": "stream",
     "text": [
      "Python\n",
      "프로그래밍\n"
     ]
    }
   ],
   "source": [
    "name = \"Python\"\n",
    "#name =\"\n",
    "if name:\n",
    "    print(name)\n",
    "\n",
    "    print(\"프로그래밍\")\n",
    "         "
   ]
  },
  {
   "cell_type": "code",
   "execution_count": 101,
   "id": "689bad2d",
   "metadata": {},
   "outputs": [
    {
     "name": "stdout",
     "output_type": "stream",
     "text": [
      "20살이 아닙니다.\n",
      "성인입니다.\n"
     ]
    }
   ],
   "source": [
    "myage = int(input('나이를 입력하세요'))\n",
    "\n",
    "if myage ==19:\n",
    "    print(\"19살 입니다.\")\n",
    "if myage !=20:\n",
    "    print(\"20살이 아닙니다.\")\n",
    "if myage >19:\n",
    "    print(\"성인입니다.\")\n",
    "if myage<=19:\n",
    "    print(\"청소년입니다.\")"
   ]
  },
  {
   "cell_type": "code",
   "execution_count": 105,
   "id": "b6fcde43",
   "metadata": {},
   "outputs": [
    {
     "name": "stdout",
     "output_type": "stream",
     "text": [
      "c학점 입니다.\n"
     ]
    }
   ],
   "source": [
    "point = int(input(\"점수를 입력하세요\"))\n",
    "\n",
    "#AND --> 전체가 참이어야 결과가 참\n",
    "if point>70 and point <80:\n",
    "    print(\"c학점 입니다.\")\n",
    "\n",
    "#OR -->하나라도 참이면 전체가 참 \n",
    "if point <=70 or point>80:\n",
    "    print(\"c학점이 아닙니다.\")"
   ]
  },
  {
   "cell_type": "code",
   "execution_count": 114,
   "id": "509eec84",
   "metadata": {},
   "outputs": [
    {
     "name": "stdout",
     "output_type": "stream",
     "text": [
      "한국사람이 아닙니다..(2)\n",
      "한국사람이 아닙니다..(3)\n",
      "한국사람이 아닙니다..(6)\n"
     ]
    }
   ],
   "source": [
    "#isKorean = True\n",
    "isKorean = False\n",
    "\n",
    "if isKorean == True:\n",
    "    print(\"한국사람입니다..(1)\")\n",
    "\n",
    "if isKorean ==False:\n",
    "    print(\"한국사람이 아닙니다..(2)\")\n",
    "\n",
    "if isKorean != True:\n",
    "    print(\"한국사람이 아닙니다..(3)\")\n",
    "\n",
    "if isKorean !=False:\n",
    "    print(\"한국사람입니다..(4)\")\n",
    "\n",
    "if isKorean:\n",
    "    print(\"한국사람입니다..(5)\")\n",
    "\n",
    "if not isKorean:\n",
    "    print(\"한국사람이 아닙니다..(6)\")\n",
    "\n"
   ]
  },
  {
   "cell_type": "code",
   "execution_count": 117,
   "id": "e5f3d645",
   "metadata": {},
   "outputs": [
    {
     "name": "stdout",
     "output_type": "stream",
     "text": [
      "시험시작\n",
      "불합격입니다.\n",
      "시험 끝\n"
     ]
    }
   ],
   "source": [
    "print(\"시험시작\")\n",
    "\n",
    "score = int(input(\"점수를 입력하세요\"))\n",
    "\n",
    "if score >=60:\n",
    "    print(\"합격입니다.\")\n",
    "else:\n",
    "    print(\"불합격입니다.\")\n",
    "\n",
    "print(\"시험 끝\")"
   ]
  },
  {
   "cell_type": "code",
   "execution_count": 4,
   "id": "90f9600d",
   "metadata": {},
   "outputs": [
    {
     "name": "stdout",
     "output_type": "stream",
     "text": [
      "한국사람 입니다..(1)\n",
      "한국사람 입니다..(4)\n"
     ]
    }
   ],
   "source": [
    "answer = input(\"한국인입니까? (Y/N)\") #입력예시:Y\n",
    "\n",
    "if answer ==\"Y\":\n",
    "    isKorean = True\n",
    "else:\n",
    "    isKorean = False\n",
    "\n",
    "#논리값을 조건으로 사용할 경우 \"만약 이 변수가 참이라면?의 의미\"\n",
    "if isKorean:\n",
    "    print(\"한국사람 입니다..(1)\")\n",
    "else:\n",
    "    print(\"한국사람이 아닙니다..(2)\")\n",
    "\n",
    "\n",
    "\n",
    "# 논리값의 부정형을 조건으로 사용할 경우 \"만약 이 변수가 거짓이라면?\"의 의미\n",
    "if not isKorean:\n",
    "    print(\"한국사람이 아닙니다..(3)\")\n",
    "else:\n",
    "    print(\"한국사람 입니다..(4)\")"
   ]
  },
  {
   "cell_type": "code",
   "execution_count": 12,
   "id": "34b4e9ec",
   "metadata": {},
   "outputs": [
    {
     "name": "stdout",
     "output_type": "stream",
     "text": [
      "시험시작\n",
      "F학점\n",
      "시험 끝\n"
     ]
    }
   ],
   "source": [
    "print(\"시험시작\")\n",
    "\n",
    "point = int(input(\"점수를 입력하세요\"))\n",
    "\n",
    "if point > 90:\n",
    "    print(\"A학점\")\n",
    "elif point>80:\n",
    "    print(\"B학점\")\n",
    "elif point>70:\n",
    "    print(\"C학점\")\n",
    "elif point>60:\n",
    "    print(\"D학점\")\n",
    "else:\n",
    "    print(\"F학점\")\n",
    "\n",
    "print(\"시험 끝\")"
   ]
  },
  {
   "cell_type": "code",
   "execution_count": 14,
   "id": "350b30ab",
   "metadata": {},
   "outputs": [
    {
     "name": "stdout",
     "output_type": "stream",
     "text": [
      "x = 1\n",
      "x = 2\n",
      "x = 3\n",
      "x = 4\n",
      "x = 5\n",
      "x = 6\n",
      "x = 7\n",
      "x = 8\n",
      "x = 9\n",
      "x = 10\n",
      "x의 최종값 = 11\n"
     ]
    }
   ],
   "source": [
    "x = 1 #초기식\n",
    "while x <=10: #조건식 -> x가 10보다 작거나 같은 동안 반복수행\n",
    "    print(\"x =\",x)\n",
    "    x+=1#증감식 -> 조건에 사용되는 값을 변경\n",
    "\n",
    "print(\"x의 최종값 =\",x)"
   ]
  },
  {
   "cell_type": "code",
   "execution_count": 16,
   "id": "2c25e544",
   "metadata": {},
   "outputs": [
    {
     "name": "stdout",
     "output_type": "stream",
     "text": [
      "7 x 1 = 7\n",
      "7 x 2 = 14\n",
      "7 x 3 = 21\n",
      "7 x 4 = 28\n",
      "7 x 5 = 35\n",
      "7 x 6 = 42\n",
      "7 x 7 = 49\n",
      "7 x 8 = 56\n",
      "7 x 9 = 63\n"
     ]
    }
   ],
   "source": [
    "x = int(input(\"숫자를 입력하세요.\"))\n",
    "\n",
    "#구구단 출력하기\n",
    "y = 1 #초기식\n",
    "while y<10: #조건식 -> 10보다 작다이므로 10은 포함되지 않음.\n",
    "    z=x*y #반복이 진행되는 동안 수행할 명령\n",
    "    print(x, \"x\", y,\"=\",z)\n",
    "    y +=1 #증감식 -> y가 1씩 증가함\n",
    "    "
   ]
  },
  {
   "cell_type": "code",
   "execution_count": 18,
   "id": "514d9a11",
   "metadata": {},
   "outputs": [
    {
     "name": "stdout",
     "output_type": "stream",
     "text": [
      "x= 1 ->sum= 1\n",
      "x= 2 ->sum= 3\n",
      "x= 3 ->sum= 6\n",
      "x= 4 ->sum= 10\n",
      "x= 5 ->sum= 15\n",
      "x= 6 ->sum= 21\n",
      "x= 7 ->sum= 28\n",
      "x= 8 ->sum= 36\n",
      "x= 9 ->sum= 45\n",
      "x= 10 ->sum= 55\n"
     ]
    }
   ],
   "source": [
    "# 1~10까지의 총 합을 구하기\n",
    "x=1 #초기식\n",
    "sum = 0 #총 합을 누적해서 저장할 변수\n",
    "while x <=10: #조건식 -> x가 10보다 작거나 같은 동안 반복수행\n",
    "    sum +=x\n",
    "    print(\"x=\", x, \"->sum=\",sum)\n",
    "    x+=1 #증감식 -> 조건에 사용되는 값을 변경"
   ]
  },
  {
   "cell_type": "code",
   "execution_count": 20,
   "id": "fb112dfa",
   "metadata": {},
   "outputs": [
    {
     "name": "stdout",
     "output_type": "stream",
     "text": [
      "0\n",
      "10\n",
      "20\n",
      "30\n",
      "40\n"
     ]
    }
   ],
   "source": [
    "# 0부터 50전(=49)까지 10씩 증가\n",
    "a=0\n",
    "while a<50:\n",
    "    print(a)\n",
    "    a+=10\n",
    "    "
   ]
  },
  {
   "cell_type": "code",
   "execution_count": 22,
   "id": "847efe42",
   "metadata": {},
   "outputs": [
    {
     "name": "stdout",
     "output_type": "stream",
     "text": [
      "10\n",
      "8\n",
      "6\n",
      "4\n",
      "2\n"
     ]
    }
   ],
   "source": [
    "# 10부터 0전(=1)까지 2씩 감소\n",
    "b = 10\n",
    "while b>0:\n",
    "    print(b)\n",
    "    b-=2"
   ]
  },
  {
   "cell_type": "code",
   "execution_count": 24,
   "id": "fb2b9247",
   "metadata": {},
   "outputs": [
    {
     "name": "stdout",
     "output_type": "stream",
     "text": [
      "x= 1\n",
      "x= 2\n",
      "x= 3\n",
      "x= 4\n",
      "x= 5\n",
      "x= 6\n",
      "x= 7\n",
      "x= 8\n",
      "x= 9\n",
      "x= 10\n",
      "x의 최종값= 10\n"
     ]
    }
   ],
   "source": [
    "# x가 1부터 11전까지 1씩 증가하면서 반복수행\n",
    "for x in range(1,11):\n",
    "    #반복이 진행되는 동안 수행할 명령\n",
    "    print(\"x=\",x)\n",
    "\n",
    "print(\"x의 최종값=\",x)"
   ]
  },
  {
   "cell_type": "code",
   "execution_count": 26,
   "id": "21fe5c85",
   "metadata": {},
   "outputs": [
    {
     "name": "stdout",
     "output_type": "stream",
     "text": [
      "7 x 1 = 7\n",
      "7 x 2 = 14\n",
      "7 x 3 = 21\n",
      "7 x 4 = 28\n",
      "7 x 5 = 35\n",
      "7 x 6 = 42\n",
      "7 x 7 = 49\n",
      "7 x 8 = 56\n",
      "7 x 9 = 63\n"
     ]
    }
   ],
   "source": [
    "x = int(input(\"숫자를 입력하세요.\"))\n",
    "\n",
    "# -> 1부터 10전까지 1씩 증가하는 값을 y에 설정\n",
    "for y in range(1,10):\n",
    "    #반복이 진행되는 동안 수행할 명령\n",
    "    z=x*y\n",
    "    print(x,\"x\",y,\"=\",z)"
   ]
  },
  {
   "cell_type": "code",
   "execution_count": null,
   "id": "cb678740",
   "metadata": {},
   "outputs": [],
   "source": []
  },
  {
   "cell_type": "code",
   "execution_count": 31,
   "id": "b6deeb22",
   "metadata": {},
   "outputs": [
    {
     "name": "stdout",
     "output_type": "stream",
     "text": [
      "x = 1 ->sum= 1\n",
      "x = 2 ->sum= 3\n",
      "x = 3 ->sum= 6\n",
      "x = 4 ->sum= 10\n",
      "x = 5 ->sum= 15\n",
      "x = 6 ->sum= 21\n",
      "x = 7 ->sum= 28\n",
      "x = 8 ->sum= 36\n",
      "x = 9 ->sum= 45\n",
      "x = 10 ->sum= 55\n"
     ]
    }
   ],
   "source": [
    "# 1~10까지의 총 합을 구하기\n",
    "sum = 0  #총 합을 누적해서 저장할 변수\n",
    "\n",
    "for x in range(1,11): #x가 1부터 11전까지 1씩 증가하면서 반복수행\n",
    "#sum이 x만큼 스스로 증가\n",
    "#-> x가 1~10까지 변화하므로 sum은 1부터 10까지 순차적으로 증가\n",
    "    sum += x\n",
    "    print(\"x =\",x,\"->sum=\",sum)\n",
    "    "
   ]
  },
  {
   "cell_type": "code",
   "execution_count": 33,
   "id": "35a07cc2",
   "metadata": {},
   "outputs": [
    {
     "name": "stdout",
     "output_type": "stream",
     "text": [
      "0\n",
      "10\n",
      "20\n",
      "30\n",
      "40\n"
     ]
    }
   ],
   "source": [
    "#0부터 50전까지 10씩 증가\n",
    "for a in range(0,50,10):\n",
    "    print(a)"
   ]
  },
  {
   "cell_type": "code",
   "execution_count": 35,
   "id": "8ebdafa7",
   "metadata": {},
   "outputs": [
    {
     "name": "stdout",
     "output_type": "stream",
     "text": [
      "10\n",
      "8\n",
      "6\n",
      "4\n",
      "2\n"
     ]
    }
   ],
   "source": [
    "#10부터 0전까지 2씩 감소\n",
    "for b in range(10,0,-2):\n",
    "    print(b)"
   ]
  }
 ],
 "metadata": {
  "kernelspec": {
   "display_name": "Python 3",
   "language": "python",
   "name": "python3"
  },
  "language_info": {
   "codemirror_mode": {
    "name": "ipython",
    "version": 3
   },
   "file_extension": ".py",
   "mimetype": "text/x-python",
   "name": "python",
   "nbconvert_exporter": "python",
   "pygments_lexer": "ipython3",
   "version": "3.13.9"
  }
 },
 "nbformat": 4,
 "nbformat_minor": 5
}
