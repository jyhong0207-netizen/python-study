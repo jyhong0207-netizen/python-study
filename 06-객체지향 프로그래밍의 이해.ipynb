{
 "cells": [
  {
   "cell_type": "code",
   "execution_count": 1,
   "id": "2ff6ef01",
   "metadata": {},
   "outputs": [],
   "source": [
    "#변수들을 그룹화 한 클래스 정의\n",
    "class Dragoon:\n",
    "    speed = None #속도\n",
    "    hp = None #체력\n",
    "    attack = None #공격력\n",
    "    defense = None #방어력"
   ]
  },
  {
   "cell_type": "code",
   "execution_count": 3,
   "id": "001d8204",
   "metadata": {},
   "outputs": [
    {
     "name": "stdout",
     "output_type": "stream",
     "text": [
      "speed:10,hp:100,attack:20,defense:5\n"
     ]
    }
   ],
   "source": [
    "#객체 생성하기\n",
    "dg1 = Dragoon()\n",
    "\n",
    "#객체의 속성 설정하기\n",
    "dg1.speed = 10\n",
    "dg1.hp = 100\n",
    "dg1.attack = 20\n",
    "dg1.defense = 5\n",
    "\n",
    "#객체의 속성 일괄 출력하기 \n",
    "tpl = \"speed:{0},hp:{1},attack:{2},defense:{3}\"\n",
    "print(tpl.format(dg1.speed,dg1.hp,dg1.attack,dg1.defense))"
   ]
  },
  {
   "cell_type": "code",
   "execution_count": 11,
   "id": "f6bbce3f",
   "metadata": {},
   "outputs": [
    {
     "name": "stdout",
     "output_type": "stream",
     "text": [
      "speed:14,hp: 100,attack:28,defense:9\n"
     ]
    }
   ],
   "source": [
    "#레벨업을 할 경우 모든 능력치가 증가한다.\n",
    "dg1.speed +=1\n",
    "dg1.hp +=10\n",
    "dg1.attack +=2\n",
    "dg1.defense +=1\n",
    "\n",
    "#공격을 받을 경우 hp가 감소한다.\n",
    "dg1.hp -=10\n",
    "#객체의 속성 일괄 출력하기\n",
    "tpl = \"speed:{0},hp: {1},attack:{2},defense:{3}\"\n",
    "print(tpl.format(dg1.speed,dg1.hp,dg1.attack,dg1.defense))"
   ]
  },
  {
   "cell_type": "code",
   "execution_count": 13,
   "id": "abfab773",
   "metadata": {},
   "outputs": [
    {
     "name": "stdout",
     "output_type": "stream",
     "text": [
      "speed: 14,hp:100,attack:28,defense:9\n",
      "speed: 12,hp:120,attack:22,defense:7\n"
     ]
    }
   ],
   "source": [
    "#동일한 속성을 갖는 객체를 추가로 생성할 수 있다.\n",
    "#각 속성은 독립적인 값을 갖는다.\n",
    "dg2 = Dragoon()\n",
    "dg2.speed =12\n",
    "dg2.hp =120\n",
    "dg2.attack =22\n",
    "dg2.defense =7\n",
    "\n",
    "tpl =\"speed: {0},hp:{1},attack:{2},defense:{3}\"\n",
    "print(tpl.format(dg1.speed,dg1.hp,dg1.attack,dg1.defense))\n",
    "print(tpl.format(dg2.speed,dg2.hp,dg2.attack,dg2.defense))"
   ]
  },
  {
   "cell_type": "code",
   "execution_count": 19,
   "id": "862803fa",
   "metadata": {},
   "outputs": [],
   "source": [
    "class Probe:\n",
    "    #이동메서드-> 이동할 좌표를 전달받아 이동한다.\n",
    "    def move(self, x, y):\n",
    "        print(\"좌표 ({0},{1})로 이동합니다.\".format(x,y))\n",
    "    #광물을 채집하는 메서드 ->체집된 광물을 반환한다.\n",
    "    def mineral(self):\n",
    "        print(\"광물을 채집합니다.(+10)\")\n",
    "        return 10\n",
    "\n",
    "    #가스를 채집하는 메서드->체집된 가스를 반환한다.\n",
    "    def gas(self):\n",
    "        print(\"가스를 채집합니다.(+5)\")\n",
    "        return 5"
   ]
  },
  {
   "cell_type": "code",
   "execution_count": 23,
   "id": "dca8b626",
   "metadata": {},
   "outputs": [
    {
     "name": "stdout",
     "output_type": "stream",
     "text": [
      "좌표 (10,10)로 이동합니다.\n",
      "광물을 채집합니다.(+10)\n",
      "광물을 채집합니다.(+10)\n",
      "광물을 채집합니다.(+10)\n",
      "가스를 채집합니다.(+5)\n",
      "가스를 채집합니다.(+5)\n",
      "채취된 광물: 30,채취된 가스:10\n"
     ]
    }
   ],
   "source": [
    "probe1 = Probe()\n",
    "probe1.move(10,10)\n",
    "\n",
    "my_mineral =0\n",
    "my_mineral += probe1.mineral()\n",
    "my_mineral += probe1.mineral()\n",
    "my_mineral += probe1.mineral()\n",
    "\n",
    "my_gas = 0\n",
    "my_gas += probe1.gas()\n",
    "my_gas += probe1.gas()\n",
    "\n",
    "print(\"채취된 광물: {0},채취된 가스:{1}\".format(my_mineral,my_gas))"
   ]
  },
  {
   "cell_type": "code",
   "execution_count": 26,
   "id": "8138a814",
   "metadata": {},
   "outputs": [],
   "source": [
    "class Zealot:\n",
    "    hp = None #체력\n",
    "    dps = None #공격력\n",
    "\n",
    "    #객체의 속성을 일괄출력하는 메서드 \n",
    "    def state(self):\n",
    "        print(\"상태확인 >>>hp:{0},dps: {1}\".format(self.hp,self.dps))\n",
    "\n",
    "    #레벨업 -->모든 속성(멤버 변수)들이 증가한다.\n",
    "    def level_up(self):\n",
    "        self.hp +=10\n",
    "        self.dps +=2\n",
    "        print(\"레벨업을 하여 체력(+10),공격력(+2)이 증가합니다.\")\n",
    "\n",
    "    #공격을 받음-->상대의 공격력만큼 hp가 감소한다.\n",
    "    def attacked(self, enemy_attack):\n",
    "        self.hp -=enemy_attack\n",
    "        print(\"{0}의 공격을 받아 hp가 {1}만큼 감소합니다.\".format(enemy_attack,self.hp))"
   ]
  },
  {
   "cell_type": "code",
   "execution_count": 28,
   "id": "25414e02",
   "metadata": {},
   "outputs": [
    {
     "name": "stdout",
     "output_type": "stream",
     "text": [
      "상태확인 >>>hp:100,dps: 20\n",
      "30의 공격을 받아 hp가 70만큼 감소합니다.\n",
      "상태확인 >>>hp:70,dps: 20\n",
      "레벨업을 하여 체력(+10),공격력(+2)이 증가합니다.\n",
      "상태확인 >>>hp:80,dps: 22\n"
     ]
    }
   ],
   "source": [
    "zealot1 = Zealot()\n",
    "zealot1.hp =100\n",
    "zealot1.dps = 20\n",
    "\n",
    "zealot1.state()\n",
    "zealot1.attacked(30)\n",
    "zealot1.state()\n",
    "zealot1.level_up()\n",
    "zealot1.state()\n"
   ]
  },
  {
   "cell_type": "code",
   "execution_count": 25,
   "id": "1922082a",
   "metadata": {},
   "outputs": [],
   "source": [
    "#마린 클래스 정의\n",
    "class Marine:\n",
    "    name = None # 이름\n",
    "    hp = None #체력\n",
    "\n",
    "    #파라미터를 활용해 객체의 속성을 초기화 하는 생성자\n",
    "    def __init__(self, name, hp):\n",
    "        self.name = name\n",
    "        self.hp=hp\n",
    "        print(\"[{0}] You wanna piece of me,boy?\".format(self.name))\n",
    "\n",
    "        #객체의 속성을 일괄 출력하는 메서드\n",
    "    def state(self):\n",
    "            print(\"[{0}] hp: {1}\".format(self.name,self.hp))\n",
    "        # 레벨업 --> 모든 속성(멤버변수)들이 증가한다.\n",
    "    def level_up(self):\n",
    "            self.hp +=5\n",
    "            print(\"[{0}] 레벨업을 하여 체력(+5)이 증가합니다.\".format(self.name))\n",
    "\n",
    "        # 공격을 받음 -->상대의 공격력만큼 hp가 감소한다.\n",
    "    def attacked(self, enemy_attack):\n",
    "            self.hp -=enemy_attack\n",
    "            print(\"[{0}] 적의 공격을 받아 hp가 {1} 감소한다.\".format(self.name, enemy_attack))"
   ]
  },
  {
   "cell_type": "code",
   "execution_count": 26,
   "id": "e1216d55",
   "metadata": {},
   "outputs": [
    {
     "name": "stdout",
     "output_type": "stream",
     "text": [
      "[마린1] You wanna piece of me,boy?\n",
      "[마린2] You wanna piece of me,boy?\n",
      "[마린1] hp: 100\n",
      "[마린2] hp: 100\n",
      "[마린1] 적의 공격을 받아 hp가 30 감소한다.\n",
      "[마린2] 적의 공격을 받아 hp가 20 감소한다.\n",
      "[마린1] hp: 70\n",
      "[마린2] hp: 80\n",
      "[마린1] 레벨업을 하여 체력(+5)이 증가합니다.\n",
      "[마린2] 레벨업을 하여 체력(+5)이 증가합니다.\n",
      "[마린1] hp: 75\n",
      "[마린2] hp: 85\n"
     ]
    }
   ],
   "source": [
    "m1= Marine(\"마린1\", 100)\n",
    "m2= Marine(\"마린2\", 100)\n",
    "m1.state()\n",
    "m2.state()\n",
    "\n",
    "m1.attacked(30)\n",
    "m2.attacked(20)\n",
    "\n",
    "m1.state()\n",
    "m2.state()\n",
    "\n",
    "m1.level_up()\n",
    "m2.level_up()\n",
    "\n",
    "m1.state()\n",
    "m2.state()"
   ]
  },
  {
   "cell_type": "code",
   "execution_count": 32,
   "id": "8f15b346",
   "metadata": {},
   "outputs": [],
   "source": [
    "class Vulture:\n",
    "    __name = None\n",
    "    __hp = None\n",
    "    __dps = None\n",
    "\n",
    "    #getter, setter 프로퍼티 정의\n",
    "\n",
    "    @property\n",
    "    def name(self):\n",
    "        return self.__name\n",
    "    @name.setter\n",
    "    def hp(self,value):\n",
    "        self.__name = value\n",
    "    @property\n",
    "    def hp(self):\n",
    "        return self.__hp\n",
    "    @hp.setter\n",
    "    def hp(self,value):\n",
    "        if value<1:\n",
    "            value=1\n",
    "            self.__hp = value\n",
    "\n",
    "    @property\n",
    "    def dps(self):\n",
    "        return self.__dps\n",
    "    @dps.setter\n",
    "    def dps(self,value):\n",
    "        if value<1:\n",
    "            value=1\n",
    "            self.__dps = value\n",
    "class Vulture:\n",
    "    __name = None\n",
    "    __hp = None\n",
    "    __dps = None\n",
    "    def __init__(self, name=None,hp=0,dps = 0):\n",
    "        self.name = name\n",
    "        self.hp=hp\n",
    "        self.dps=dps\n",
    "        print(\"[{0}]Alright! Bring it on!\". format(self.name))\n",
    "\n",
    "    def state(self):\n",
    "        print(\"[{0}] hp: {1},dps:{2}\".format(self.name,self.hp,self.dps)) \n",
    "\n",
    "\n",
    "    def level_up(self):\n",
    "        self.hp +=5\n",
    "        self.dps +=1\n",
    "        print(\"[{0}] 레벨업을 하여 체력(+5),공격력(+1)이 증가합니다.\".format(self.name))  \n",
    "\n",
    "    def attacked(self, enemy_attack):\n",
    "        self.hp -= enemy_attack\n",
    "        print(\"[{0}] 적의 공격을 받아 hp가 {1}감소합니다.\".format(self.name,enemy_attack)) \n",
    "\n",
    "    def attack(self,target):\n",
    "        print(\"[{0}] {1}에게 초당 {2}만큼의 피해를 주는 공격을 가합니다.\".format(self.name,target,self.dps))"
   ]
  },
  {
   "cell_type": "code",
   "execution_count": 33,
   "id": "6f546d91",
   "metadata": {},
   "outputs": [
    {
     "name": "stdout",
     "output_type": "stream",
     "text": [
      "[벌처1]Alright! Bring it on!\n",
      "[벌처2]Alright! Bring it on!\n",
      "[벌처1] hp: 100,dps:0\n",
      "[벌처2] hp: 100,dps:20\n",
      "[벌처1] 적의 공격을 받아 hp가 30감소합니다.\n",
      "[벌처2] 적의 공격을 받아 hp가 20감소합니다.\n",
      "[벌처1] hp: 70,dps:0\n",
      "[벌처2] hp: 80,dps:20\n",
      "[벌처1] 레벨업을 하여 체력(+5),공격력(+1)이 증가합니다.\n",
      "[벌처2] 레벨업을 하여 체력(+5),공격력(+1)이 증가합니다.\n",
      "[벌처1] hp: 75,dps:1\n",
      "[벌처2] hp: 85,dps:21\n",
      "[벌처1] 적1에게 초당 1만큼의 피해를 주는 공격을 가합니다.\n",
      "[벌처2] 적2에게 초당 21만큼의 피해를 주는 공격을 가합니다.\n"
     ]
    }
   ],
   "source": [
    "v1 = Vulture(\"벌처1\",100)\n",
    "v2 = Vulture(\"벌처2\",100,20)\n",
    "\n",
    "v1.state()\n",
    "v2.state()\n",
    "\n",
    "v1.attacked(30)\n",
    "v2.attacked(20)\n",
    "\n",
    "v1.state()\n",
    "v2.state()\n",
    "\n",
    "v1.level_up()\n",
    "v2.level_up()\n",
    "\n",
    "v1.state()\n",
    "v2.state()\n",
    "\n",
    "v1.attack(\"적1\")\n",
    "v2.attack(\"적2\")"
   ]
  },
  {
   "cell_type": "code",
   "execution_count": 37,
   "id": "823deac1",
   "metadata": {},
   "outputs": [],
   "source": [
    "class Terran:\n",
    "    name = None\n",
    "    hp = None\n",
    "\n",
    "    def __init__(self,name,hp):\n",
    "        self.name = name\n",
    "        self.hp = hp\n",
    "\n",
    "    def info(self):\n",
    "        return \"[%s] HP: %d\" % (self.name,self.hp)"
   ]
  },
  {
   "cell_type": "code",
   "execution_count": 38,
   "id": "bea1377e",
   "metadata": {},
   "outputs": [
    {
     "name": "stdout",
     "output_type": "stream",
     "text": [
      "[마린1] HP: 45\n",
      "[마린1] 총을 쏘아 100의 데미지를 입혔습니다.\n"
     ]
    }
   ],
   "source": [
    "class Marine(Terran):\n",
    "    def shoot(self,attack):\n",
    "        return\"[%s] 총을 쏘아 %d의 데미지를 입혔습니다.\"%(self.name,attack)\n",
    "    \n",
    "m=Marine('마린1',45)\n",
    "print(m.info())\n",
    "print(m.shoot(100))"
   ]
  },
  {
   "cell_type": "code",
   "execution_count": 41,
   "id": "de7d14e5",
   "metadata": {},
   "outputs": [
    {
     "name": "stdout",
     "output_type": "stream",
     "text": [
      "[메딕1] HP: 30,MANA:100\n",
      "[메딕1] 마린1의 체력을 회복시킵니다.(mana:-5)\n"
     ]
    }
   ],
   "source": [
    "class Medic(Terran):\n",
    "    mana = None\n",
    "\n",
    "    def __init__(self,name,hp,mana):\n",
    "        super().__init__(name,hp)\n",
    "\n",
    "        self.mana =mana\n",
    "\n",
    "    def info_ex(self):\n",
    "        info_msg = super().info()\n",
    "        info_msg +=\",MANA:%d\" % self.mana\n",
    "        return info_msg\n",
    "    def heel(self,target):\n",
    "        self.mana -=5\n",
    "        return \"[%s] %s의 체력을 회복시킵니다.(mana:-5)\" %(self.name,target)\n",
    "    \n",
    "md = Medic('메딕1',30,100) \n",
    "print(md.info_ex())\n",
    "print(md.heel('마린1'))"
   ]
  }
 ],
 "metadata": {
  "kernelspec": {
   "display_name": "Python 3",
   "language": "python",
   "name": "python3"
  },
  "language_info": {
   "codemirror_mode": {
    "name": "ipython",
    "version": 3
   },
   "file_extension": ".py",
   "mimetype": "text/x-python",
   "name": "python",
   "nbconvert_exporter": "python",
   "pygments_lexer": "ipython3",
   "version": "3.13.9"
  }
 },
 "nbformat": 4,
 "nbformat_minor": 5
}
