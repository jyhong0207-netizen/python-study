{
 "cells": [
  {
   "cell_type": "code",
   "execution_count": 5,
   "id": "619fa779",
   "metadata": {},
   "outputs": [
    {
     "name": "stdout",
     "output_type": "stream",
     "text": [
      "{'name': '철수', 'phone': '010-1234-5678', 'birth': '0115'}\n"
     ]
    }
   ],
   "source": [
    " #딕셔너리 정의하기\n",
    "mydic = {\"name\":\"철수\", \"phone\": \"010-1234-5678\",\"birth\":\"0115\"}\n",
    "print(mydic)"
   ]
  },
  {
   "cell_type": "code",
   "execution_count": 8,
   "id": "e5cbfdda",
   "metadata": {},
   "outputs": [
    {
     "name": "stdout",
     "output_type": "stream",
     "text": [
      "철수\n"
     ]
    }
   ],
   "source": [
    "print(mydic[\"name\"]) # 특정 원소에 접근하기 ->직접 출력"
   ]
  },
  {
   "cell_type": "code",
   "execution_count": 11,
   "id": "d8205f0d",
   "metadata": {},
   "outputs": [
    {
     "name": "stdout",
     "output_type": "stream",
     "text": [
      "010-1234-5678\n"
     ]
    }
   ],
   "source": [
    "phone = mydic[\"phone\"] # 특정 원소에 접근하기 ->다른 변수에 복사\n",
    "print(phone)"
   ]
  },
  {
   "cell_type": "code",
   "execution_count": 14,
   "id": "8c701845",
   "metadata": {},
   "outputs": [
    {
     "name": "stdout",
     "output_type": "stream",
     "text": [
      "{'name': '호영', 'phone': '010-1234-5678', 'birth': '0115'}\n"
     ]
    }
   ],
   "source": [
    "mydic[\"name\"]=\"호영\" #특정 원소의 값을 변경\n",
    "print(mydic)"
   ]
  },
  {
   "cell_type": "code",
   "execution_count": 16,
   "id": "cc8d9c24",
   "metadata": {},
   "outputs": [
    {
     "name": "stdout",
     "output_type": "stream",
     "text": [
      "{'a': 100, 'b': 200, 'c': 300}\n"
     ]
    }
   ],
   "source": [
    "#존재하지 않는 키에 값을 할당하면 확장\n",
    "foo = {\"a\":100,\"b\":200}\n",
    "foo[\"c\"] = 300\n",
    "print(foo)"
   ]
  },
  {
   "cell_type": "code",
   "execution_count": 19,
   "id": "612ccee4",
   "metadata": {},
   "outputs": [
    {
     "name": "stdout",
     "output_type": "stream",
     "text": [
      "python\n"
     ]
    },
    {
     "data": {
      "text/plain": [
       "{'msg': 'python'}"
      ]
     },
     "execution_count": 19,
     "metadata": {},
     "output_type": "execute_result"
    }
   ],
   "source": [
    "#키가 중복될 경우 하나를 제외한 나머지는 무시됨.\n",
    "#->일반적으로 나중에 정의된 항목이 이전에 정의된 항목을 덮어 씀\n",
    "data = {\"msg\":\"hello\",\"msg\":\"world\",\"msg\":\"python\"}\n",
    "print(data['msg'])\n",
    "data"
   ]
  },
  {
   "cell_type": "code",
   "execution_count": 24,
   "id": "df48fc9b",
   "metadata": {},
   "outputs": [],
   "source": [
    "#리스트의 원소가 딕셔너리가 되는 경우\n",
    "grade = [\n",
    "    {\"name\":\"철수\",\"kor\":95,\"eng\":88},\n",
    "    {\"name\":\"영희\",\"kor\":92,\"eng\":90},\n",
    "    {\"name\":\"철민\",\"kor\":88,\"eng\":76}\n",
    "]"
   ]
  },
  {
   "cell_type": "code",
   "execution_count": 27,
   "id": "2473401d",
   "metadata": {},
   "outputs": [
    {
     "name": "stdout",
     "output_type": "stream",
     "text": [
      "0번째 원소: {'name': '철수', 'kor': 95, 'eng': 88}\n",
      "1번째 원소: {'name': '영희', 'kor': 92, 'eng': 90}\n",
      "2번째 원소: {'name': '철민', 'kor': 88, 'eng': 76}\n"
     ]
    }
   ],
   "source": [
    "print(\"0번째 원소: %s\" % grade[0])\n",
    "print(\"1번째 원소: %s\" % grade[1])\n",
    "print(\"2번째 원소: %s\" % grade[2])"
   ]
  },
  {
   "cell_type": "code",
   "execution_count": 29,
   "id": "584267ff",
   "metadata": {},
   "outputs": [
    {
     "name": "stdout",
     "output_type": "stream",
     "text": [
      "철수의 국어점수:95,영어점수:88\n",
      "영희의 국어점수:92,영어점수:90\n",
      "철민의 국어점수:88,영어점수:76\n"
     ]
    }
   ],
   "source": [
    "tpl = \"{0}의 국어점수:{1},영어점수:{2}\"\n",
    "print( tpl.format(grade[0][\"name\"],grade[0][\"kor\"],grade[0][\"eng\"]))\n",
    "print( tpl.format(grade[1][\"name\"],grade[1][\"kor\"],grade[1][\"eng\"]))\n",
    "print( tpl.format(grade[2][\"name\"],grade[2][\"kor\"],grade[2][\"eng\"]))"
   ]
  },
  {
   "cell_type": "code",
   "execution_count": 34,
   "id": "331d0957",
   "metadata": {},
   "outputs": [
    {
     "name": "stdout",
     "output_type": "stream",
     "text": [
      "[철수] 나이: 16세, 키: 172.4cm\n",
      "[민수] 나이: 17세, 키: 168.2cm\n",
      "[호영] 나이: 17세, 키: 168.2cm\n"
     ]
    }
   ],
   "source": [
    "student = {\n",
    "    \"name\": ['철수', '민수','호영'],\n",
    "    \"age\":[16,17,19],\n",
    "    \"height\":[172.4,168.2,170.5]\n",
    "}\n",
    "\n",
    "tpl = \"[%s] 나이: %d세, 키: %0.1fcm\"\n",
    "print(tpl % (student['name'][0], student['age'][0], student['height'][0]))\n",
    "print(tpl % (student['name'][1], student['age'][1], student['height'][1]))\n",
    "print(tpl % (student['name'][2], student['age'][1],student['height'][1]))"
   ]
  },
  {
   "cell_type": "code",
   "execution_count": 42,
   "id": "ed1eaa5b",
   "metadata": {},
   "outputs": [],
   "source": [
    "phone = {\n",
    "    \"apple\": {\n",
    "        \"name\": \"iPhone\",\n",
    "        \"price\":  \"200$\"\n",
    "    },\n",
    "    \"samsung\": {\n",
    "        \"name\": \"Galluxy\",\n",
    "        \"price\": \"200만원\"\n",
    "    }\n",
    "}"
   ]
  },
  {
   "cell_type": "code",
   "execution_count": 44,
   "id": "054762d8",
   "metadata": {},
   "outputs": [
    {
     "name": "stdout",
     "output_type": "stream",
     "text": [
      "iPhone의 가격은 200$입니다.\n",
      "Galluxy의 가격은 200만원입니다.\n"
     ]
    }
   ],
   "source": [
    "tpl = \"%s의 가격은 %s입니다.\"\n",
    "print(tpl % (phone['apple']['name'],phone['apple']['price']))\n",
    "print(tpl % (phone['samsung']['name'],phone['samsung']['price']))"
   ]
  },
  {
   "cell_type": "code",
   "execution_count": 47,
   "id": "9fe22db3",
   "metadata": {},
   "outputs": [
    {
     "name": "stdout",
     "output_type": "stream",
     "text": [
      "email: user1@python.com, comment: Good~!!\n",
      "email: user2@python.com, comment: Nice~!!\n",
      "email: uwer3@python.com, comment: Not Bad\n"
     ]
    }
   ],
   "source": [
    "review = {\n",
    "    \"items\":[\n",
    "        {\"email\": \"user1@python.com\", \"comment\":\"Good~!!\"},\n",
    "        {\"email\": \"user2@python.com\", \"comment\": \"Nice~!!\"},\n",
    "        {\"email\": \"uwer3@python.com\", \"comment\": \"Not Bad\"}\n",
    "    ]\n",
    "}\n",
    "\n",
    "# items가 배열이므로 반복문 사용 가능\n",
    "tpl = \"email: {0}, comment: {1}\"\n",
    "for item in review[\"items\"]:\n",
    "    print(tpl.format(item[\"email\"], item[\"comment\"]))"
   ]
  },
  {
   "cell_type": "code",
   "execution_count": 52,
   "id": "7dc749bf",
   "metadata": {},
   "outputs": [
    {
     "name": "stdout",
     "output_type": "stream",
     "text": [
      "파이썬 프로그래밍\n",
      "No.1 - 1일차 :프로그래밍 언어의 이해\n",
      "No.2 - 2일차 :변수와 연산자\n",
      "No.3 - 3일차 :함수의 이해\n",
      "No.4 - 4일차 :조건문과 반복문\n"
     ]
    }
   ],
   "source": [
    "lectures = {\n",
    "    \"title\": \"파이썬 프로그래밍\",\n",
    "    \"subject\":[\n",
    "        {\"no\":1,\"date\":\"1일차\",\"title\":\"프로그래밍 언어의 이해\"},\n",
    "        {\"no\":2,\"date\":\"2일차\",\"title\":\"변수와 연산자\"},\n",
    "        {\"no\":3,\"date\":\"3일차\", \"title\":\"함수의 이해\"},\n",
    "        {\"no\":4,\"date\":\"4일차\", \"title\":\"조건문과 반복문\"}\n",
    "    ]    \n",
    "}\n",
    "\n",
    "print(lectures[\"title\"])\n",
    "\n",
    "tpl = \"No.{0} - {1} :{2}\"\n",
    "for subject in lectures[\"subject\"]:\n",
    "    print(tpl.format(subject[\"no\"],subject[\"date\"],subject[\"title\"]))"
   ]
  },
  {
   "cell_type": "code",
   "execution_count": 54,
   "id": "3569c41a",
   "metadata": {},
   "outputs": [
    {
     "data": {
      "text/plain": [
       "3"
      ]
     },
     "execution_count": 54,
     "metadata": {},
     "output_type": "execute_result"
    }
   ],
   "source": [
    "point = {\"korean\":98,\"math\":77,\"english\":82}\n",
    "len(point)"
   ]
  },
  {
   "cell_type": "code",
   "execution_count": null,
   "id": "9929341e",
   "metadata": {},
   "outputs": [],
   "source": [
    "point = {\"korean\":98,\"math\":77,\"english\":82}\n",
    "print(point)\n",
    "\n",
    "#특정 원소 사제->존재하지 않는 키를 삭제할 경우 에러 발생함.\n",
    "del(point['english'])\n",
    "print(point)"
   ]
  },
  {
   "cell_type": "code",
   "execution_count": 57,
   "id": "b1ef97d8",
   "metadata": {},
   "outputs": [
    {
     "name": "stdout",
     "output_type": "stream",
     "text": [
      "철수\n"
     ]
    }
   ],
   "source": [
    "#샘플데이터\n",
    "dic = {\"name\":\"철수\",\"phone\":\"010-1234-5678\", \"birth\":\"0115\"}\n",
    "\n",
    "#특정 key 에 대응하는 값 얻기 ->dic[\"name\"]과 동일\n",
    "print(dic.get(\"name\"))"
   ]
  },
  {
   "cell_type": "code",
   "execution_count": 60,
   "id": "3b71bb21",
   "metadata": {},
   "outputs": [
    {
     "name": "stdout",
     "output_type": "stream",
     "text": [
      "None\n"
     ]
    }
   ],
   "source": [
    "#존재하지 않는 key에 접근하는 경우--> 에러아님(None이 반환됨)\n",
    "print(dic.get(\"gender\"))\n"
   ]
  },
  {
   "cell_type": "code",
   "execution_count": 63,
   "id": "16b3323c",
   "metadata": {},
   "outputs": [],
   "source": [
    "성적표 = {\"국어\":92, \"수학\":88,\"영어\": 72}"
   ]
  },
  {
   "cell_type": "code",
   "execution_count": 65,
   "id": "fe3f73b8",
   "metadata": {},
   "outputs": [
    {
     "name": "stdout",
     "output_type": "stream",
     "text": [
      "dict_keys(['국어', '수학', '영어'])\n"
     ]
    }
   ],
   "source": [
    "keys = 성적표.keys()\n",
    "print(keys)"
   ]
  },
  {
   "cell_type": "code",
   "execution_count": 67,
   "id": "5324d74f",
   "metadata": {},
   "outputs": [
    {
     "name": "stdout",
     "output_type": "stream",
     "text": [
      "['국어', '수학', '영어']\n"
     ]
    }
   ],
   "source": [
    "key_list = list(keys)\n",
    "print(key_list)"
   ]
  },
  {
   "cell_type": "code",
   "execution_count": 69,
   "id": "a0dcdfad",
   "metadata": {},
   "outputs": [
    {
     "data": {
      "text/plain": [
       "['국어', '수학', '영어']"
      ]
     },
     "execution_count": 69,
     "metadata": {},
     "output_type": "execute_result"
    }
   ],
   "source": [
    "keyList = list(성적표.keys())\n",
    "keyList"
   ]
  },
  {
   "cell_type": "code",
   "execution_count": 76,
   "id": "fb0b2924",
   "metadata": {},
   "outputs": [],
   "source": [
    "성적표 = {\"국어\":92, \"수학\":88,\"영어\":72}\n"
   ]
  },
  {
   "cell_type": "code",
   "execution_count": 79,
   "id": "2504c88e",
   "metadata": {},
   "outputs": [
    {
     "name": "stdout",
     "output_type": "stream",
     "text": [
      "dict_values([92, 88, 72])\n"
     ]
    }
   ],
   "source": [
    "#Value만 모아서 dict_values객체로반환\n",
    "values = 성적표.values()\n",
    "print(values)"
   ]
  },
  {
   "cell_type": "code",
   "execution_count": 81,
   "id": "069f7dc7",
   "metadata": {},
   "outputs": [
    {
     "name": "stdout",
     "output_type": "stream",
     "text": [
      "[92, 88, 72]\n"
     ]
    }
   ],
   "source": [
    "#dict_values 를 list로 변환\n",
    "value_list = list(values)\n",
    "print(value_list)"
   ]
  },
  {
   "cell_type": "code",
   "execution_count": 83,
   "id": "d63c005f",
   "metadata": {},
   "outputs": [
    {
     "data": {
      "text/plain": [
       "[92, 88, 72]"
      ]
     },
     "execution_count": 83,
     "metadata": {},
     "output_type": "execute_result"
    }
   ],
   "source": [
    "#변환 과정(values()--->list())을 일괄처리\n",
    "valueList = list(성적표.values())\n",
    "valueList"
   ]
  },
  {
   "cell_type": "code",
   "execution_count": 86,
   "id": "56b68849",
   "metadata": {},
   "outputs": [
    {
     "name": "stdout",
     "output_type": "stream",
     "text": [
      "{'국어': 92, '수학': 88, '영어': 72, '물리': 78, '화학': 82}\n"
     ]
    }
   ],
   "source": [
    "성적표1 = {\"국어\":92, \"수학\":88,\"영어\":72 }\n",
    "성적표2 = {\"물리\":78,\"화학\":82}\n",
    "\n",
    "성적표1.update(성적표2)\n",
    "print(성적표1)"
   ]
  },
  {
   "cell_type": "code",
   "execution_count": 88,
   "id": "776404be",
   "metadata": {},
   "outputs": [
    {
     "name": "stdout",
     "output_type": "stream",
     "text": [
      "{'국어': 92, '수학': 88, '영어': 72, '물리': 78, '화학': 82}\n"
     ]
    }
   ],
   "source": [
    "성적표최종 = 성적표1.copy()\n",
    "print(성적표최종)"
   ]
  },
  {
   "cell_type": "code",
   "execution_count": 1,
   "id": "89e0d6d1",
   "metadata": {},
   "outputs": [
    {
     "name": "stdout",
     "output_type": "stream",
     "text": [
      "{'a': 100, 'b': 200}\n",
      "{}\n"
     ]
    }
   ],
   "source": [
    "bar = {\"a\":100,\"b\":200}\n",
    "print(bar)\n",
    "\n",
    "#모든 원소 삭제 \n",
    "bar.clear()\n",
    "print(bar)"
   ]
  },
  {
   "cell_type": "code",
   "execution_count": 3,
   "id": "63ef488c",
   "metadata": {},
   "outputs": [
    {
     "name": "stdout",
     "output_type": "stream",
     "text": [
      "결과는 50입니다.\n"
     ]
    }
   ],
   "source": [
    "x = int(input(\"숫자를 입력하세요.\"))\n",
    "\n",
    "#x에 0이 입력된 경우 에러가 발생함.\n",
    "y = 100/x\n",
    "print(\"결과는 %d입니다.\"%y)"
   ]
  },
  {
   "cell_type": "code",
   "execution_count": 5,
   "id": "87fe8956",
   "metadata": {},
   "outputs": [
    {
     "name": "stdout",
     "output_type": "stream",
     "text": [
      "합계는 168입니다.\n"
     ]
    }
   ],
   "source": [
    "mylist = [92,76,83,64,95]\n",
    "mysum = 0\n",
    "\n",
    "x= int(input(\"인원수를 입력하세요.\"))\n",
    "\n",
    "for i in range(x):\n",
    "    mysum +=mylist[i]\n",
    "\n",
    "print(\"합계는 %d입니다.\"% mysum)"
   ]
  },
  {
   "cell_type": "code",
   "execution_count": 7,
   "id": "add8ee0e",
   "metadata": {},
   "outputs": [],
   "source": [
    "f = open(\"helloworld.txt\",\"w\",encoding='utf-8')\n",
    "f.write(\"Hello Python!!!\\n\")\n",
    "f.write(\"안녕하세요. 파이썬!!!\\n\")\n",
    "f.close()"
   ]
  },
  {
   "cell_type": "code",
   "execution_count": 10,
   "id": "f99c1823",
   "metadata": {},
   "outputs": [
    {
     "name": "stdout",
     "output_type": "stream",
     "text": [
      "Hello Python!!!\n",
      "안녕하세요. 파이썬!!!\n",
      "\n"
     ]
    }
   ],
   "source": [
    "f = open(\"helloworld.txt\", \"r\", encoding='utf-8')\n",
    "\n",
    "data =f.read()\n",
    "print(data)\n",
    "f.close()"
   ]
  },
  {
   "cell_type": "code",
   "execution_count": 14,
   "id": "d4fad049",
   "metadata": {},
   "outputs": [
    {
     "name": "stdout",
     "output_type": "stream",
     "text": [
      "파일 저장이 완료되었습니다.\n"
     ]
    }
   ],
   "source": [
    "with open(\"hellopy8thon.txt\", \"w\",encoding='utf-8')as f:\n",
    "\n",
    "    for i in range(0,10):\n",
    "        f.write(\"%d>>\" % i)\n",
    "        f.write(\"Life is too short, \")\n",
    "        f.write(\"you need python\\n\")\n",
    "\n",
    "    print(\"파일 저장이 완료되었습니다.\")"
   ]
  },
  {
   "cell_type": "code",
   "execution_count": 5,
   "id": "90a1ad83",
   "metadata": {},
   "outputs": [
    {
     "name": "stdout",
     "output_type": "stream",
     "text": [
      "0>>Life is too short, you need python\n",
      "1>>Life is too short, you need python\n",
      "2>>Life is too short, you need python\n",
      "3>>Life is too short, you need python\n",
      "4>>Life is too short, you need python\n",
      "5>>Life is too short, you need python\n",
      "6>>Life is too short, you need python\n",
      "7>>Life is too short, you need python\n",
      "8>>Life is too short, you need python\n",
      "9>>Life is too short, you need python\n",
      "\n"
     ]
    }
   ],
   "source": [
    "with open(\"hellopython.txt\", \"r\", encoding='utf-8') as f:\n",
    "    data = f.read()\n",
    "    print(data)\n"
   ]
  },
  {
   "cell_type": "code",
   "execution_count": 6,
   "id": "9fd2a3bf",
   "metadata": {},
   "outputs": [
    {
     "name": "stdout",
     "output_type": "stream",
     "text": [
      "['Hello Python!!!\\n', '안녕하세요. 파이썬!!!\\n']\n",
      "------------------------------\n",
      "읽어들인 데이터는 총 2입니다.\n",
      "------------------------------\n",
      "Hello Python!!!\n",
      "안녕하세요. 파이썬!!!\n"
     ]
    }
   ],
   "source": [
    "with open(\"helloworld.txt\",\"r\",encoding='utf-8')as f:\n",
    "\n",
    "    lines = f.readlines()\n",
    "    print(lines)\n",
    "    print(\"-\"*30)\n",
    "\n",
    "    size = len(lines)\n",
    "    print(\"읽어들인 데이터는 총 %d입니다.\"% size)\n",
    "    print(\"-\"*30)\n",
    "\n",
    "    for item in lines:\n",
    "\n",
    "        print(item.strip())"
   ]
  },
  {
   "cell_type": "code",
   "execution_count": 20,
   "id": "6d0df1d7",
   "metadata": {},
   "outputs": [],
   "source": [
    "grade = [\n",
    "    {\"name\":\"철수\", \"kor\":95, \"eng\":88,\"math\": 72},\n",
    "    {\"name\":\"영희\",\"kor\":92,\"eng\":90,\"math\":95},\n",
    "    {\"name\":\"철민\",\"kor\":88,\"eng\":76,\"math\":64}\n",
    "]\n",
    "\n",
    "tpl = \"{0},{1},{2},{3}\\n\"\n",
    "with open(\"grade.csv\",\"w\",encoding='utf-8')as f:\n",
    "    f.write(\"이름,국어,영어,수학\\n\")\n",
    "\n",
    "    for item in grade:\n",
    "        tmp = tpl.format(item[\"name\"],item[\"kor\"],item[\"eng\"],item[\"math\"])\n",
    "        f.write(tmp)"
   ]
  },
  {
   "cell_type": "code",
   "execution_count": 26,
   "id": "4a98e60e",
   "metadata": {},
   "outputs": [],
   "source": [
    "grade_dic = {\n",
    "    '이름': ['철수','영희','민철','수현','호영'],\n",
    "    '국어': [98,88,92,63,120],\n",
    "    '영어': [76,90,70,60,50],\n",
    "    '수학': [88,62,88,31,76],\n",
    "    '과학': [64,72,45,70,88]\n",
    "}\n",
    "\n",
    "tpl = \"{0},{1},{2},{2},{4}\\n\"\n",
    "keys = list(grade_dic.keys())\n",
    "p=\",\"\n",
    "title = p.join(keys)\n",
    "\n",
    "with open(\"grade2.csv\",\"w\",encoding='utf-8')as f:\n",
    "    f.write(title + \"\\n\")\n",
    "\n",
    "    for i in range(0, len(grade_dic['이름'])):\n",
    "        tmp = tpl.format(grade_dic['이름'][i],grade_dic['국어'][i],grade_dic['영어'][i],\n",
    "                         grade_dic['수학'][i],grade_dic['과학'][i])\n",
    "        \n",
    "        f.write(tmp)\n",
    "\n"
   ]
  },
  {
   "cell_type": "code",
   "execution_count": 30,
   "id": "1c1cdcde",
   "metadata": {},
   "outputs": [
    {
     "name": "stdout",
     "output_type": "stream",
     "text": [
      "['이름,국어,영어,수학\\n', '철수,95,88,72\\n', '영희,92,90,95\\n', '철민,88,76,64\\n']\n"
     ]
    },
    {
     "data": {
      "text/plain": [
       "[{'name': '철수', 'kor': 95, 'eng': 88, 'math': 72},\n",
       " {'name': '영희', 'kor': 92, 'eng': 90, 'math': 95},\n",
       " {'name': '철민', 'kor': 88, 'eng': 76, 'math': 64}]"
      ]
     },
     "execution_count": 30,
     "metadata": {},
     "output_type": "execute_result"
    }
   ],
   "source": [
    "csv_list = None\n",
    "\n",
    "with open(\"grade.csv\",\"r\",encoding=\"utf-8\")as f:\n",
    "    csv_list = f.readlines()\n",
    "\n",
    "print(csv_list)\n",
    "\n",
    "data=[]\n",
    "\n",
    "for i, line in  enumerate(csv_list):\n",
    "\n",
    "    if i==0:\n",
    "        continue\n",
    "    k=line.strip().split(\",\")\n",
    "\n",
    "    item = {\"name\": k[0],\"kor\":int(k[1]),\"eng\":int(k[2]), \"math\": int(k[3])}\n",
    "    data.append(item)\n",
    "\n",
    "data"
   ]
  },
  {
   "cell_type": "code",
   "execution_count": null,
   "id": "83f72dec",
   "metadata": {},
   "outputs": [
    {
     "name": "stdout",
     "output_type": "stream",
     "text": [
      "CSV파일 처리에 실패했습니다. 'utf-8' codec can't decode byte 0xb3 in position 0: invalid start byte\n",
      "------------------------------\n",
      "작업이 완료되었습니다.\n"
     ]
    }
   ],
   "source": [
    "try:\n",
    "    with open(\"covid19.csv\",'r',encoding='euc-kr')as f:\n",
    "        csv_list = f.readlines()\n",
    "        for i in range(5):\n",
    "            print(csv_list[i].strip())\n",
    "        size = len(csv_list)-1\n",
    "\n",
    "        seoul_confirm_sum = 0\n",
    "        seoul_death_sum=0\n",
    "        nation_confirm_sum = 0\n",
    "        nation_death_sum = 0\n",
    "\n",
    "        for u, line in enumerate(csv_list):\n",
    "            if i ==0:\n",
    "                continue\n",
    "            k=line.strip().split(\",\")\n",
    "\n",
    "            if k[1].isnumeric():seoul_confirm_sum+=int(k[1])\n",
    "            if k[2].isnumeric():seoul_death_sum += int(k[2])\n",
    "            if k[3].isnumeric():nation_confirm_sum += int(k[3]) \n",
    "            if k[4].isnumeric():nation_death_sum += int(k[4])\n",
    "\n",
    "        print(\"서울 일 평균 확진자 수 : %.2f명\"% (seoul_confirm_sum/size))\n",
    "        print(\"서울 일 평균 사망자 수: %.2f명\"% (seoul_death_sum/size))\n",
    "        print(\"전국 일 평균 확진자 수 : %.2f명\"% (nation_confirm_sum/size))\n",
    "        print(\"전국 일 평균 사망자 수 : %.2f명\"% (nation_death_sum/size))\n",
    "        \n",
    "except Exception as e:\n",
    "    print(\"CSV파일 처리에 실패했습니다.\",e)\n",
    "finally:\n",
    "    print(\"-\"*30)\n",
    "    print(\"작업이 완료되었습니다.\")"
   ]
  }
 ],
 "metadata": {
  "kernelspec": {
   "display_name": "Python 3",
   "language": "python",
   "name": "python3"
  },
  "language_info": {
   "codemirror_mode": {
    "name": "ipython",
    "version": 3
   },
   "file_extension": ".py",
   "mimetype": "text/x-python",
   "name": "python",
   "nbconvert_exporter": "python",
   "pygments_lexer": "ipython3",
   "version": "3.13.9"
  }
 },
 "nbformat": 4,
 "nbformat_minor": 5
}
