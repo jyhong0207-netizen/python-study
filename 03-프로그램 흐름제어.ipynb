{
 "cells": [
  {
   "cell_type": "code",
   "execution_count": 2,
   "id": "3de21e52",
   "metadata": {},
   "outputs": [
    {
     "name": "stdout",
     "output_type": "stream",
     "text": [
      "1 -->홀수\n",
      "2 -->짝수\n",
      "3 -->홀수\n",
      "4 -->짝수\n",
      "5 -->홀수\n",
      "6 -->짝수\n",
      "7 -->홀수\n",
      "8 -->짝수\n",
      "9 -->홀수\n",
      "10 -->짝수\n",
      "11 -->홀수\n",
      "12 -->짝수\n",
      "13 -->홀수\n",
      "14 -->짝수\n",
      "15 -->홀수\n",
      "16 -->짝수\n",
      "17 -->홀수\n",
      "18 -->짝수\n",
      "19 -->홀수\n",
      "20 -->짝수\n",
      "21 -->홀수\n",
      "22 -->짝수\n",
      "23 -->홀수\n",
      "24 -->짝수\n",
      "25 -->홀수\n",
      "26 -->짝수\n",
      "27 -->홀수\n",
      "28 -->짝수\n",
      "29 -->홀수\n",
      "30 -->짝수\n",
      "31 -->홀수\n",
      "32 -->짝수\n",
      "33 -->홀수\n",
      "짝수들의 합: 272\n",
      "홀수들의 합: 289\n"
     ]
    }
   ],
   "source": [
    "number = int(input(\"숫자를 입력하세요:\")) # 입력에시:10\n",
    "\n",
    "# 총 합을 구하기 위해서는 반복문 전에 0으로 초기화 된 변수가 필요하다.\n",
    "x=0\n",
    "y=0\n",
    "\n",
    "for i in range(1, number+1): # 1~number까지 반복 수행\n",
    "    if i%2==0:\n",
    "        print(i, \"-->짝수\")\n",
    "        x+=i\n",
    "    else: \n",
    "        print(i,\"-->홀수\")\n",
    "        y+=i\n",
    "\n",
    "print(\"짝수들의 합:\",x)\n",
    "print(\"홀수들의 합:\",y)"
   ]
  },
  {
   "cell_type": "code",
   "execution_count": 8,
   "id": "dd5b464b",
   "metadata": {},
   "outputs": [
    {
     "name": "stdout",
     "output_type": "stream",
     "text": [
      "0\n",
      "-----\n",
      "1\n",
      "-----\n",
      "2\n",
      "-----\n",
      "3\n",
      "-----\n",
      "4\n"
     ]
    }
   ],
   "source": [
    "for i in range(0,5):\n",
    "    print(i)\n",
    "    # 조건값이 마지막이 아닌 경우만 실행하도록 if문을 구성\n",
    "    if i+1<5:\n",
    "        print(\"-----\")"
   ]
  },
  {
   "cell_type": "code",
   "execution_count": 10,
   "id": "ca30498b",
   "metadata": {},
   "outputs": [
    {
     "name": "stdout",
     "output_type": "stream",
     "text": [
      "15\n",
      "30\n",
      "45\n",
      "60\n",
      "75\n",
      "90\n"
     ]
    }
   ],
   "source": [
    "x=3\n",
    "y=5\n",
    "\n",
    "for i in range(1,101):\n",
    "    if i%x==0 and i%y ==0:\n",
    "        print(i)"
   ]
  },
  {
   "cell_type": "code",
   "execution_count": 12,
   "id": "be015a8a",
   "metadata": {},
   "outputs": [
    {
     "name": "stdout",
     "output_type": "stream",
     "text": [
      "i에 대한 반복 수행 시작 :i--> 0\n",
      "::: i= 0 , j= 0\n",
      "::: i= 0 , j= 1\n",
      "::: i= 0 , j= 2\n",
      "::: i= 0 , j= 3\n",
      "::: i= 0 , j= 4\n",
      "i에 대한 반복 수행종료\n",
      "-------------------------\n",
      "i에 대한 반복 수행 시작 :i--> 1\n",
      "::: i= 1 , j= 0\n",
      "::: i= 1 , j= 1\n",
      "::: i= 1 , j= 2\n",
      "::: i= 1 , j= 3\n",
      "::: i= 1 , j= 4\n",
      "i에 대한 반복 수행종료\n",
      "-------------------------\n",
      "i에 대한 반복 수행 시작 :i--> 2\n",
      "::: i= 2 , j= 0\n",
      "::: i= 2 , j= 1\n",
      "::: i= 2 , j= 2\n",
      "::: i= 2 , j= 3\n",
      "::: i= 2 , j= 4\n",
      "i에 대한 반복 수행종료\n"
     ]
    }
   ],
   "source": [
    "for i in range(0,3):\n",
    "    print(\"i에 대한 반복 수행 시작 :i-->\", i)\n",
    "\n",
    "    for j in range(0,5):\n",
    "        print(\"::: i=\",i,\", j=\",j)\n",
    "\n",
    "    print(\"i에 대한 반복 수행종료\")\n",
    "    \n",
    "    if i+1<3:\n",
    "        print(\"-------------------------\")"
   ]
  },
  {
   "cell_type": "code",
   "execution_count": 113,
   "id": "1f1b641d",
   "metadata": {},
   "outputs": [
    {
     "name": "stdout",
     "output_type": "stream",
     "text": [
      "2 x 1 = 2\n",
      "2 x 2 = 4\n",
      "2 x 3 = 6\n",
      "2 x 4 = 8\n",
      "2 x 5 = 10\n",
      "2 x 6 = 12\n",
      "2 x 7 = 14\n",
      "2 x 8 = 16\n",
      "2 x 9 = 18\n",
      "3 x 1 = 3\n",
      "3 x 2 = 6\n",
      "3 x 3 = 9\n",
      "3 x 4 = 12\n",
      "3 x 5 = 15\n",
      "3 x 6 = 18\n",
      "3 x 7 = 21\n",
      "3 x 8 = 24\n",
      "3 x 9 = 27\n",
      "4 x 1 = 4\n",
      "4 x 2 = 8\n",
      "4 x 3 = 12\n",
      "4 x 4 = 16\n",
      "4 x 5 = 20\n",
      "4 x 6 = 24\n",
      "4 x 7 = 28\n",
      "4 x 8 = 32\n",
      "4 x 9 = 36\n",
      "5 x 1 = 5\n",
      "5 x 2 = 10\n",
      "5 x 3 = 15\n",
      "5 x 4 = 20\n",
      "5 x 5 = 25\n",
      "5 x 6 = 30\n",
      "5 x 7 = 35\n",
      "5 x 8 = 40\n",
      "5 x 9 = 45\n",
      "6 x 1 = 6\n",
      "6 x 2 = 12\n",
      "6 x 3 = 18\n",
      "6 x 4 = 24\n",
      "6 x 5 = 30\n",
      "6 x 6 = 36\n",
      "6 x 7 = 42\n",
      "6 x 8 = 48\n",
      "6 x 9 = 54\n",
      "7 x 1 = 7\n",
      "7 x 2 = 14\n",
      "7 x 3 = 21\n",
      "7 x 4 = 28\n",
      "7 x 5 = 35\n",
      "7 x 6 = 42\n",
      "7 x 7 = 49\n",
      "7 x 8 = 56\n",
      "7 x 9 = 63\n",
      "8 x 1 = 8\n",
      "8 x 2 = 16\n",
      "8 x 3 = 24\n",
      "8 x 4 = 32\n",
      "8 x 5 = 40\n",
      "8 x 6 = 48\n",
      "8 x 7 = 56\n",
      "8 x 8 = 64\n",
      "8 x 9 = 72\n",
      "9 x 1 = 9\n",
      "9 x 2 = 18\n",
      "9 x 3 = 27\n",
      "9 x 4 = 36\n",
      "9 x 5 = 45\n",
      "9 x 6 = 54\n",
      "9 x 7 = 63\n",
      "9 x 8 = 72\n",
      "9 x 9 = 81\n"
     ]
    }
   ],
   "source": [
    "# i의 변화범위 2~9\n",
    "for i in range(2,10):\n",
    "\n",
    "    # i가 1증가하는 동안 j의 값이 매번 1~9까지 새로 시작\n",
    "    for j in range(1,10):\n",
    "        k=i*j\n",
    "        print(i,\"x\",j,\"=\",k)\n",
    "\n",
    "if i+1<10:\n",
    "    print(\"--------\")"
   ]
  },
  {
   "cell_type": "code",
   "execution_count": 38,
   "id": "c7f0149a",
   "metadata": {},
   "outputs": [
    {
     "name": "stdout",
     "output_type": "stream",
     "text": [
      "[98, 82, 73, 64, 100]\n"
     ]
    }
   ],
   "source": [
    "#5명의 학생에 대한 성적 나열-->정수형의 원소만 갖는 리스트\n",
    "grade = [98,82,73,64,100]\n",
    "print(grade)\n"
   ]
  },
  {
   "cell_type": "code",
   "execution_count": 40,
   "id": "eef494fb",
   "metadata": {},
   "outputs": [
    {
     "name": "stdout",
     "output_type": "stream",
     "text": [
      "['철수', '영희', '나영', '민식', '호영']\n"
     ]
    }
   ],
   "source": [
    "# 각 학생의 이름에 대한 나열-->문자열 타입의 원소만 갖는 리스트\n",
    "names = [\"철수\",\"영희\",\"나영\",\"민식\",\"호영\"]\n",
    "print(names)"
   ]
  },
  {
   "cell_type": "code",
   "execution_count": 42,
   "id": "784c2ef7",
   "metadata": {},
   "outputs": [
    {
     "name": "stdout",
     "output_type": "stream",
     "text": [
      "['철수', 17, 162, 4, 68.5, '남자', True]\n"
     ]
    }
   ],
   "source": [
    "# 서로 다른 자료형들을 함께 사용가능\n",
    "student =[\"철수\",17,162,4,68.5,\"남자\",True]\n",
    "print(student)"
   ]
  },
  {
   "cell_type": "code",
   "execution_count": 45,
   "id": "cd59de18",
   "metadata": {},
   "outputs": [
    {
     "name": "stdout",
     "output_type": "stream",
     "text": [
      "10\n",
      "20\n",
      "30\n"
     ]
    }
   ],
   "source": [
    "# 인덱스 번호를 통해 각 원소에 접근할 수 있다.\n",
    "items= [10,20,30]\n",
    "print(items[0])\n",
    "print(items[1])\n",
    "print(items[2])"
   ]
  },
  {
   "cell_type": "code",
   "execution_count": 49,
   "id": "1a7fc166",
   "metadata": {},
   "outputs": [
    {
     "name": "stdout",
     "output_type": "stream",
     "text": [
      "[100, 200, 300]\n",
      "[0, 50, 100]\n"
     ]
    }
   ],
   "source": [
    "# 값의 변경\n",
    "mydata=[100,200,300]\n",
    "print(mydata)\n",
    "\n",
    "mydata[0]=0\n",
    "mydata[1]=mydata[1]-150\n",
    "mydata[2]//=3\n",
    "print(mydata)"
   ]
  },
  {
   "cell_type": "code",
   "execution_count": 52,
   "id": "d1525191",
   "metadata": {},
   "outputs": [
    {
     "name": "stdout",
     "output_type": "stream",
     "text": [
      "[10, 20, 30]\n",
      "[40, 50, 60]\n"
     ]
    }
   ],
   "source": [
    "# 실습에 대한 리스트 정의\n",
    "list1= [10,20,30]\n",
    "list2=[40,50,60]\n",
    "print(list1)\n",
    "print(list2)"
   ]
  },
  {
   "cell_type": "code",
   "execution_count": 54,
   "id": "a2812dfa",
   "metadata": {},
   "outputs": [
    {
     "name": "stdout",
     "output_type": "stream",
     "text": [
      "[10, 20, 30, 40, 50, 60]\n"
     ]
    }
   ],
   "source": [
    "# 리스트끼리의 덧셈은 단순 병합\n",
    "list3= list1+list2\n",
    "print(list3)"
   ]
  },
  {
   "cell_type": "code",
   "execution_count": 56,
   "id": "61082e19",
   "metadata": {},
   "outputs": [
    {
     "name": "stdout",
     "output_type": "stream",
     "text": [
      "[10, 20, 30, 10, 20, 30, 10, 20, 30, 10, 20, 30, 10, 20, 30]\n"
     ]
    }
   ],
   "source": [
    "# 리스트와 정수의 곱셈은 동일 내용을 반복한다.\n",
    "list4=list1*5\n",
    "print(list4)"
   ]
  },
  {
   "cell_type": "code",
   "execution_count": 59,
   "id": "12d52d1a",
   "metadata": {},
   "outputs": [
    {
     "name": "stdout",
     "output_type": "stream",
     "text": [
      "[['철수', 98], ['영희', 82], ['나영', 73]]\n"
     ]
    }
   ],
   "source": [
    "# 각 학생별 이름,점수 정의\n",
    "stud1=[\"철수\",98]\n",
    "stud2=[\"영희\",82]\n",
    "stud3=[\"나영\",73]\n",
    "#(2차원 리스트정의)****\n",
    "# 리스트를 원소로 갖는 새로운 리스트 정의\n",
    "studentGroup=[stud1,stud2,stud3]\n",
    "print(studentGroup)"
   ]
  },
  {
   "cell_type": "code",
   "execution_count": 62,
   "id": "3618dd74",
   "metadata": {},
   "outputs": [
    {
     "name": "stdout",
     "output_type": "stream",
     "text": [
      "[['민식', 64, 172.3], ['호영', 100, 175.8], ['철민', 89, 168.7]]\n"
     ]
    }
   ],
   "source": [
    "# 2차원 리스트의 일괄 생성\n",
    "#->바깥의 리스트에 속한 원소들은 행을 구성하고, 안쪽의 리스트에 속한 원소들은 열을 구성한다.\n",
    "studentGroup2=[\n",
    "    [\"민식\",64,172.3],\n",
    "    [\"호영\",100,175.8],\n",
    "    [\"철민\",89,168.7]\n",
    "\n",
    "]\n",
    "print(studentGroup2)"
   ]
  },
  {
   "cell_type": "code",
   "execution_count": 69,
   "id": "5494d5d9",
   "metadata": {},
   "outputs": [
    {
     "name": "stdout",
     "output_type": "stream",
     "text": [
      "이름:  민식 몸무게:  64 키:  172.3\n",
      "이름:  호영 몸무게:  100 키:  175.8\n",
      "이름:  철민 몸무게:  89 키:  168.7\n"
     ]
    }
   ],
   "source": [
    "# 실습을 위한 리스트 정의(앞 코드와 동인)\n",
    "학생=[[\"민식\",64,172.3],[\"호영\",100,175.8],[\"철민\",89,168.7]]\n",
    "\n",
    "print(\"이름: \",학생[0][0],\"몸무게: \",학생[0][1], \"키: \",학생[0][2])\n",
    "print(\"이름: \",학생[1][0],\"몸무게: \",학생[1][1],\"키: \",학생[1][2])\n",
    "print(\"이름: \",학생[2][0],\"몸무게: \",학생[2][1],\"키: \",학생[2][2])"
   ]
  },
  {
   "cell_type": "code",
   "execution_count": 71,
   "id": "e028ad2f",
   "metadata": {},
   "outputs": [
    {
     "name": "stdout",
     "output_type": "stream",
     "text": [
      "20\n",
      "30\n"
     ]
    }
   ],
   "source": [
    "mylist = [10,20,30] #실습을 위한 샘플 데이터\n",
    "print(mylist[1]) #1번째 원소에 접근->0부터 카운트\n",
    "print(mylist[-1])#-1번째 원소에 접근 ->-1부터 카운트\n"
   ]
  },
  {
   "cell_type": "code",
   "execution_count": 73,
   "id": "004fcedd",
   "metadata": {},
   "outputs": [
    {
     "name": "stdout",
     "output_type": "stream",
     "text": [
      "10\n"
     ]
    }
   ],
   "source": [
    "first = mylist[0]\n",
    "print(first)"
   ]
  },
  {
   "cell_type": "code",
   "execution_count": 75,
   "id": "49a5bceb",
   "metadata": {},
   "outputs": [
    {
     "name": "stdout",
     "output_type": "stream",
     "text": [
      "[10, 200, 30]\n"
     ]
    }
   ],
   "source": [
    "mylist[1]=200 #1번째 원소의 값을 다른 값으로 변경\n",
    "print(mylist)"
   ]
  },
  {
   "cell_type": "code",
   "execution_count": 77,
   "id": "0d03c351",
   "metadata": {},
   "outputs": [
    {
     "name": "stdout",
     "output_type": "stream",
     "text": [
      "[70, 80]\n"
     ]
    }
   ],
   "source": [
    " # 실습을 위한 샘플 데이터\n",
    "mylist =[60,70,80,90,100]#리스트의 1번째부터 3번째 전까지->3번째 원소 불포함\n",
    "\n",
    "print(mylist[1:3])  "
   ]
  },
  {
   "cell_type": "code",
   "execution_count": 79,
   "id": "e39f83a1",
   "metadata": {},
   "outputs": [
    {
     "name": "stdout",
     "output_type": "stream",
     "text": [
      "[70, 80]\n"
     ]
    }
   ],
   "source": [
    "print(mylist[1:-2]) # 리스트에서 1번째부터 뒤에서부터2번째다음까지"
   ]
  },
  {
   "cell_type": "code",
   "execution_count": 81,
   "id": "0a22ace5",
   "metadata": {},
   "outputs": [
    {
     "name": "stdout",
     "output_type": "stream",
     "text": [
      "[90, 100]\n"
     ]
    }
   ],
   "source": [
    "print(mylist[3:]) #3번째 부터 끝까지->3번째 원소 포함됨"
   ]
  },
  {
   "cell_type": "code",
   "execution_count": null,
   "id": "bd9c9ebd",
   "metadata": {},
   "outputs": [
    {
     "name": "stdout",
     "output_type": "stream",
     "text": [
      "[60, 70, 80]\n"
     ]
    }
   ],
   "source": [
    "print(mylist[:3])#처음부터 3번째 전까지->3번째 원소 포함안됨"
   ]
  },
  {
   "cell_type": "code",
   "execution_count": 86,
   "id": "5834cee7",
   "metadata": {},
   "outputs": [
    {
     "name": "stdout",
     "output_type": "stream",
     "text": [
      "[60, 70, 80, 90, 100]\n"
     ]
    }
   ],
   "source": [
    "print(mylist[:])#리스트의 모든원소"
   ]
  },
  {
   "cell_type": "code",
   "execution_count": 88,
   "id": "0e79cb2a",
   "metadata": {},
   "outputs": [
    {
     "name": "stdout",
     "output_type": "stream",
     "text": [
      "[1, 20, 30, 40, 5]\n"
     ]
    }
   ],
   "source": [
    "foo=[1,2,3,4,5]\n",
    "\n",
    "#리스트의 1번째부터 4번째 전까지 3개의 원소를 다른 값으로 일괄 교체\n",
    "foo[1:4]=[20,30,40]\n",
    "print(foo)"
   ]
  },
  {
   "cell_type": "code",
   "execution_count": 90,
   "id": "debc18a0",
   "metadata": {},
   "outputs": [
    {
     "name": "stdout",
     "output_type": "stream",
     "text": [
      "[11, 55]\n"
     ]
    }
   ],
   "source": [
    "bar = [11,22,33,44,55]\n",
    "\n",
    "#3개의 원소 범위에 빈 리스트 대입 -->삭제\n",
    "\n",
    "bar[1:4]=[]\n",
    "print(bar)"
   ]
  },
  {
   "cell_type": "code",
   "execution_count": 92,
   "id": "c9103a4e",
   "metadata": {},
   "outputs": [
    {
     "name": "stdout",
     "output_type": "stream",
     "text": [
      "[6, 100, 200, 300, 400, 500, 600, 700, 10]\n"
     ]
    }
   ],
   "source": [
    "hello = [6,7,8,9,10]\n",
    "\n",
    "# 3개의 원소 범위에 7개의 원소를 갖는 리스트 대입-->확장\n",
    "hello[1:4]=[100,200,300,400,500,600,700]\n",
    "print(hello)"
   ]
  },
  {
   "cell_type": "code",
   "execution_count": 94,
   "id": "0977174e",
   "metadata": {},
   "outputs": [
    {
     "name": "stdout",
     "output_type": "stream",
     "text": [
      "[11, 1000, 2000, 15]\n"
     ]
    }
   ],
   "source": [
    "world = [11,12,13,14,15]\n",
    "\n",
    "#3개의 원소 범위에 2개의 원소를 갖는 리스트 대입 -->축소\n",
    "world[1:4]=[1000,2000]\n",
    "print(world)"
   ]
  },
  {
   "cell_type": "code",
   "execution_count": 96,
   "id": "1aadc331",
   "metadata": {},
   "outputs": [
    {
     "name": "stdout",
     "output_type": "stream",
     "text": [
      "100\n",
      "100\n"
     ]
    }
   ],
   "source": [
    "# 숫자형, 문자열, 논리값을 대입할 경우 변수값의 복사\n",
    "a=100\n",
    "b=a\n",
    "print(a)\n",
    "print(b)"
   ]
  },
  {
   "cell_type": "code",
   "execution_count": 99,
   "id": "70784de0",
   "metadata": {},
   "outputs": [
    {
     "name": "stdout",
     "output_type": "stream",
     "text": [
      "100\n",
      "200\n"
     ]
    }
   ],
   "source": [
    "# 복사본을 변경하더라도 원본에는 변화가 없다.(반대의 경우도 마찬가지)\n",
    "b=200\n",
    "print(a)\n",
    "print(b)"
   ]
  },
  {
   "cell_type": "code",
   "execution_count": 101,
   "id": "4d11c153",
   "metadata": {},
   "outputs": [
    {
     "name": "stdout",
     "output_type": "stream",
     "text": [
      "[1, 2, 3]\n",
      "[1, 2, 3]\n"
     ]
    }
   ],
   "source": [
    "# 객체의 참조--> 리스트,딕셔너리 등\n",
    "foo = [1,2,3]\n",
    "bar=foo\n",
    "print(foo)\n",
    "print(bar)\n"
   ]
  },
  {
   "cell_type": "code",
   "execution_count": 103,
   "id": "4e2dc277",
   "metadata": {},
   "outputs": [
    {
     "name": "stdout",
     "output_type": "stream",
     "text": [
      "[1, 20, 3]\n",
      "[1, 20, 3]\n"
     ]
    }
   ],
   "source": [
    "#->참조된 복사본을 변경하면 원본도 함께 변경됨.(반대의 경우도 마찬가지)\n",
    "bar[1]=20\n",
    "print(foo)\n",
    "print(bar)"
   ]
  },
  {
   "cell_type": "code",
   "execution_count": 105,
   "id": "365e733f",
   "metadata": {},
   "outputs": [
    {
     "name": "stdout",
     "output_type": "stream",
     "text": [
      "[1, 2, 3]\n",
      "[1, 2, 1000]\n"
     ]
    }
   ],
   "source": [
    "#리스트 복사(고전적인 방법)\n",
    "#->같은 길이의 리스트를 만들고 각 원소를 일일이 복사함\n",
    "bar=[1,2,3]\n",
    "cp1=[0,0,0]\n",
    "cp1[0]=bar[0]\n",
    "cp1[1]=bar[1]\n",
    "cp1[2]=bar[2]\n",
    "\n",
    "#->복사본을 변경하더라도 원본에 변화 없음.\n",
    "cp1[2]=1000\n",
    "print(bar)\n",
    "print(cp1)"
   ]
  },
  {
   "cell_type": "code",
   "execution_count": 107,
   "id": "f3936da3",
   "metadata": {},
   "outputs": [
    {
     "name": "stdout",
     "output_type": "stream",
     "text": [
      "[100, 200, 300]\n",
      "[100, 12345, 300]\n"
     ]
    }
   ],
   "source": [
    "#슬라이싱을 활용한 방법\n",
    "hello = [100,200,300]\n",
    "cp2 = hello[:]\n",
    "\n",
    "#->복사본을 변경하더라도 원본에 영향이 없다.\n",
    "cp2[1]=12345\n",
    "print(hello)\n",
    "print(cp2)"
   ]
  },
  {
   "cell_type": "code",
   "execution_count": null,
   "id": "4cb11bb9",
   "metadata": {},
   "outputs": [],
   "source": [
    "# 리스트 객체의 함수를 사용하는 방법\n",
    "world=[\"hello\",\"python\",\"world\"]\n",
    "cp3=world.copy()\n",
    "\n",
    "#->복사본을 변경하더라도 원본에 영향이 없다.\n",
    "cp3[0]=\"nice\""
   ]
  }
 ],
 "metadata": {
  "kernelspec": {
   "display_name": "Python 3",
   "language": "python",
   "name": "python3"
  },
  "language_info": {
   "codemirror_mode": {
    "name": "ipython",
    "version": 3
   },
   "file_extension": ".py",
   "mimetype": "text/x-python",
   "name": "python",
   "nbconvert_exporter": "python",
   "pygments_lexer": "ipython3",
   "version": "3.13.9"
  }
 },
 "nbformat": 4,
 "nbformat_minor": 5
}
