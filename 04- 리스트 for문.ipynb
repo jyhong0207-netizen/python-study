{
 "cells": [
  {
   "cell_type": "code",
   "execution_count": 3,
   "id": "934019a2",
   "metadata": {},
   "outputs": [
    {
     "name": "stdout",
     "output_type": "stream",
     "text": [
      "0 번째 원소: 봄\n",
      "1 번째 원소: 여름\n",
      "2 번째 원소: 가을\n",
      "3 번째 원소: 겨울\n"
     ]
    }
   ],
   "source": [
    "# 원소의 수를 조회한 다음 직접 반복범위 지정하기\n",
    "# -> 단점: 각 원소가 지정되는 변수가 없기 때문에\n",
    "#             원소에 대한 접근을 리스트를 통해 직접 수행해야 한다.\n",
    "seasons = ['봄', '여름','가을','겨울']\n",
    "           \n",
    "size = len(seasons)\n",
    "for i in range(0,size):\n",
    "    print(i,\"번째 원소:\",seasons[i])"
   ]
  },
  {
   "cell_type": "code",
   "execution_count": 5,
   "id": "2c6f6cde",
   "metadata": {},
   "outputs": [
    {
     "name": "stdout",
     "output_type": "stream",
     "text": [
      "python\n",
      "is\n",
      "good\n"
     ]
    }
   ],
   "source": [
    "msg = ['python','is','good']\n",
    "\n",
    "#->리스트의 각 원소를 순차적으로 i에 대입하면서 반복\n",
    "#->단점: 몇 번째 원소인지는 알 수 없다.\n",
    "for i in msg:\n",
    "    print(i)"
   ]
  },
  {
   "cell_type": "code",
   "execution_count": 17,
   "id": "8e79c033",
   "metadata": {},
   "outputs": [
    {
     "name": "stdout",
     "output_type": "stream",
     "text": [
      "총점: 407 , 평균: 81\n"
     ]
    }
   ],
   "source": [
    "# 성적에 대한 총점과 평균 구하기\n",
    "score = [100,82,98,76,51]\n",
    "\n",
    "#-> 총점을 저장할 변수\n",
    "total = 0\n",
    "\n",
    "for v in score:\n",
    "    #총점은 각 원소를 누적해서 더한다.\n",
    "    total += v\n",
    "\n",
    "#평균은 총 합에서 원소의 수를 나눈다.\n",
    "#->\"//\"는 나눗셈에서 정수부분의 몫만 구한다.\n",
    "avg= total //len(score)\n",
    "\n",
    "print(\"총점:\",total, \", 평균:\",avg)"
   ]
  },
  {
   "cell_type": "code",
   "execution_count": 26,
   "id": "6b2dfbb0",
   "metadata": {},
   "outputs": [
    {
     "name": "stdout",
     "output_type": "stream",
     "text": [
      "0 번째원소: 서울\n",
      "1 번째원소: 인천\n",
      "2 번째원소: 대구\n",
      "3 번째원소: 대전\n",
      "4 번째원소: 광주\n",
      "5 번째원소: 부산\n"
     ]
    }
   ],
   "source": [
    "for i,v in enumerate(city):\n",
    "    \n",
    "    print(i,\"번째원소:\",v)"
   ]
  },
  {
   "cell_type": "code",
   "execution_count": 28,
   "id": "3f6f4e8f",
   "metadata": {},
   "outputs": [
    {
     "name": "stdout",
     "output_type": "stream",
     "text": [
      "size = 2\n",
      "0 번째 데이터->  [88, 72, 83, 90]\n",
      "1 번째 데이터->  [63, 77, 72, 80]\n"
     ]
    }
   ],
   "source": [
    "mydata = [[88,72,83,90],[63,77,72,80]]#예제를 위한 데이터 구성\n",
    "\n",
    "size= len(mydata) #2차원 리스트의 길이는 행의 수를 반환한다.\n",
    "print(\"size =\",size)\n",
    "\n",
    "for i in range(0,size): #행의 수 만큼 반복하는 구성\n",
    "    #i번째 행에 포함되어 있는 개별 리스트를 출력한다.\n",
    "    print(i,\"번째 데이터-> \",mydata[i])"
   ]
  },
  {
   "cell_type": "code",
   "execution_count": 32,
   "id": "757f78ae",
   "metadata": {},
   "outputs": [
    {
     "name": "stdout",
     "output_type": "stream",
     "text": [
      "size= 2\n",
      "0 번째 데이터-> [88, 72, 83, 90]\n",
      "0 번째 데이터 ==>총합= 333 평균= 83.25\n",
      "1 번째 데이터-> [63, 77, 72, 80]\n",
      "1 번째 데이터 ==>총합= 292 평균= 73.0\n"
     ]
    }
   ],
   "source": [
    "mydata = [[88,72,83,90],[63,77,72,80]]#에제를 위한 데이터 구성\n",
    "\n",
    "size = len(mydata)        #2차원 리스트의 길이는 행의 수를 반환한다\n",
    "print(\"size=\",size)\n",
    "\n",
    "for i in range(0,size): #행의 수 만큼 반복하는 구성\n",
    "    #i 번째 행에 포함되어 잇는 개별리스트를 출력\n",
    "    print(i,\"번째 데이터->\",mydata[i])\n",
    "\n",
    "    total = 0\n",
    "    size = len(mydata[i])\n",
    "\n",
    "    for j in range(0,size):\n",
    "        total +=mydata[i][j]\n",
    "\n",
    "    average = total/size \n",
    "\n",
    "    print(i,\"번째 데이터 ==>총합=\",total,\"평균=\",average)"
   ]
  },
  {
   "cell_type": "code",
   "execution_count": 33,
   "id": "8414ce73",
   "metadata": {},
   "outputs": [
    {
     "name": "stdout",
     "output_type": "stream",
     "text": [
      "이번에 출력되는 데이터-> [88, 72, 83, 90]\n",
      "이번에 출력되는 데이터-> [63, 77, 72, 80]\n"
     ]
    }
   ],
   "source": [
    "mydata = [[88,72,83,90],[63,77,72,80]]\n",
    "\n",
    "for row in mydata:\n",
    "\n",
    "    print(\"이번에 출력되는 데이터->\",row)"
   ]
  },
  {
   "cell_type": "code",
   "execution_count": 37,
   "id": "294cde8f",
   "metadata": {},
   "outputs": [
    {
     "name": "stdout",
     "output_type": "stream",
     "text": [
      "이번에 출력되는 데이터 -> [88, 72, 83, 90]\n",
      "[88, 72, 83, 90] 에 대한 총합= 333 ,평균= 83.25\n",
      "이번에 출력되는 데이터 -> [63, 77, 72, 80]\n",
      "[63, 77, 72, 80] 에 대한 총합= 292 ,평균= 73.0\n"
     ]
    }
   ],
   "source": [
    "mydata=[[88,72,83,90],[63,77,72,80]]\n",
    "\n",
    "for row in mydata:\n",
    "\n",
    "    print(\"이번에 출력되는 데이터 ->\",row)\n",
    "\n",
    "    total = 0\n",
    "\n",
    "    for col in row:\n",
    "        total +=col\n",
    "\n",
    "    average = total/len(row)\n",
    "\n",
    "    print(row,\"에 대한 총합=\",total,\",평균=\",average)"
   ]
  },
  {
   "cell_type": "code",
   "execution_count": 39,
   "id": "f061c515",
   "metadata": {},
   "outputs": [
    {
     "name": "stdout",
     "output_type": "stream",
     "text": [
      "3\n"
     ]
    }
   ],
   "source": [
    "mylist=[1,2,3]\n",
    "print(len(mylist))"
   ]
  },
  {
   "cell_type": "code",
   "execution_count": 42,
   "id": "a5b6ed52",
   "metadata": {},
   "outputs": [
    {
     "name": "stdout",
     "output_type": "stream",
     "text": [
      "[1, 3]\n"
     ]
    }
   ],
   "source": [
    "mylist=[1,2,3]\n",
    "del(mylist[1])\n",
    "print(mylist)\n"
   ]
  },
  {
   "cell_type": "code",
   "execution_count": 44,
   "id": "2eb2f000",
   "metadata": {},
   "outputs": [
    {
     "name": "stdout",
     "output_type": "stream",
     "text": [
      "[4, 2, 5, 3, 1]\n"
     ]
    }
   ],
   "source": [
    "mylist = [4,2,5,3,1]\n",
    "print(mylist)"
   ]
  },
  {
   "cell_type": "code",
   "execution_count": 48,
   "id": "8c75c369",
   "metadata": {},
   "outputs": [
    {
     "name": "stdout",
     "output_type": "stream",
     "text": [
      "[1, 2, 3, 4, 5]\n"
     ]
    }
   ],
   "source": [
    "asc = sorted(mylist) #원소의 순차 정렬\n",
    "print(asc)"
   ]
  },
  {
   "cell_type": "code",
   "execution_count": 50,
   "id": "5aacee7a",
   "metadata": {},
   "outputs": [
    {
     "name": "stdout",
     "output_type": "stream",
     "text": [
      "[5, 4, 3, 2, 1]\n"
     ]
    }
   ],
   "source": [
    "desc = sorted(mylist, reverse=True)#원소의 역순 정렬\n",
    "print(desc)"
   ]
  },
  {
   "cell_type": "code",
   "execution_count": 53,
   "id": "ccfca83c",
   "metadata": {},
   "outputs": [
    {
     "name": "stdout",
     "output_type": "stream",
     "text": [
      "[4, 2, 5, 3, 1]\n"
     ]
    }
   ],
   "source": [
    "print(mylist) #원본 출력 확인"
   ]
  },
  {
   "cell_type": "code",
   "execution_count": 55,
   "id": "39bce7e7",
   "metadata": {},
   "outputs": [
    {
     "name": "stdout",
     "output_type": "stream",
     "text": [
      "3\n",
      "1\n",
      "6\n"
     ]
    }
   ],
   "source": [
    "#리스트 튜플중에서\n",
    "#최대값, 최소값, 합께 수하기-> 문자열은 계산불가.\n",
    "a = [1,2,3]\n",
    "print(max(a))\n",
    "print(min(a))\n",
    "print(sum(a))\n"
   ]
  },
  {
   "cell_type": "code",
   "execution_count": 57,
   "id": "dfdf9e2c",
   "metadata": {},
   "outputs": [
    {
     "name": "stdout",
     "output_type": "stream",
     "text": [
      "2.0\n"
     ]
    }
   ],
   "source": [
    "#평균을 구하는 기능은 없기 때문에 직접 게산해야 함\n",
    "avg = sum(a)/len(a)\n",
    "print(avg)"
   ]
  },
  {
   "cell_type": "code",
   "execution_count": 59,
   "id": "69637de4",
   "metadata": {},
   "outputs": [
    {
     "name": "stdout",
     "output_type": "stream",
     "text": [
      "3\n"
     ]
    }
   ],
   "source": [
    "#주어진 값과 일치하는 원소의 개수 세기\n",
    "mylist = [1,2,3,2,4,2]\n",
    "c = mylist. count(2)\n",
    "print(c)"
   ]
  },
  {
   "cell_type": "code",
   "execution_count": 61,
   "id": "05935bd3",
   "metadata": {},
   "outputs": [
    {
     "name": "stdout",
     "output_type": "stream",
     "text": [
      "3\n"
     ]
    }
   ],
   "source": [
    "mylist = [1,2,3,10,1,2,3,10]\n",
    "x=mylist.index(10)\n",
    "print(x)"
   ]
  },
  {
   "cell_type": "code",
   "execution_count": 63,
   "id": "78abbb7e",
   "metadata": {},
   "outputs": [
    {
     "name": "stdout",
     "output_type": "stream",
     "text": [
      "[1, 2, 3, 4]\n"
     ]
    }
   ],
   "source": [
    "# 맨 뒤에 내용 추가 --> 원본에 직접 반영\n",
    "mylist = [1,2,3]\n",
    "mylist.append(4)\n",
    "print(mylist)"
   ]
  },
  {
   "cell_type": "code",
   "execution_count": 65,
   "id": "ade4dc31",
   "metadata": {},
   "outputs": [
    {
     "name": "stdout",
     "output_type": "stream",
     "text": [
      "[1, 2, 3, [5, 6]]\n"
     ]
    }
   ],
   "source": [
    "# 리스트를 append 할 경우 2차 리스트로 삽입.\n",
    "mylist = [1,2,3]\n",
    "mylist.append([5,6])\n",
    "print(mylist)"
   ]
  },
  {
   "cell_type": "code",
   "execution_count": 67,
   "id": "0740ccdb",
   "metadata": {},
   "outputs": [
    {
     "name": "stdout",
     "output_type": "stream",
     "text": [
      "[1, 10, 2, 3]\n"
     ]
    }
   ],
   "source": [
    "#중간 삽입\n",
    "# -> 1번째 위치에 10을 삽입. 기존의 항목들은 뒤로 밀려난다.\n",
    "mylist = [1,2,3]\n",
    "mylist.insert(1,10)\n",
    "print(mylist)"
   ]
  },
  {
   "cell_type": "code",
   "execution_count": 69,
   "id": "7c48692b",
   "metadata": {},
   "outputs": [
    {
     "name": "stdout",
     "output_type": "stream",
     "text": [
      "[10, 1, 2, 3]\n"
     ]
    }
   ],
   "source": [
    "#맨 앞에 삽입\n",
    "#->0번째 위치에 10을 삽입. 기존의 항목들은 뒤로 밀림\n",
    "mylist=[1,2,3]\n",
    "mylist.insert(0,10)\n",
    "print(mylist)"
   ]
  },
  {
   "cell_type": "code",
   "execution_count": 71,
   "id": "bb3c4476",
   "metadata": {},
   "outputs": [
    {
     "name": "stdout",
     "output_type": "stream",
     "text": [
      "[1, 2, 3, 10]\n"
     ]
    }
   ],
   "source": [
    "# append와 같은 효과\n",
    "mylist = [1,2,3]\n",
    "lastIndex = len(mylist)\n",
    "mylist.insert(lastIndex,10)\n",
    "print(mylist)"
   ]
  },
  {
   "cell_type": "code",
   "execution_count": 73,
   "id": "2cda18b2",
   "metadata": {},
   "outputs": [
    {
     "name": "stdout",
     "output_type": "stream",
     "text": [
      "3\n",
      "[1, 2]\n"
     ]
    }
   ],
   "source": [
    "# 맨 마지막 요소를 꺼내서 리턴하고 원본에서는 삭제\n",
    "mylist=[1,2,3]\n",
    "k=mylist.pop()\n",
    "print(k)\n",
    "print(mylist)"
   ]
  },
  {
   "cell_type": "code",
   "execution_count": 76,
   "id": "77d4ab99",
   "metadata": {},
   "outputs": [
    {
     "name": "stdout",
     "output_type": "stream",
     "text": [
      "[1, 2, 3, 10, 9, 8, 7]\n"
     ]
    }
   ],
   "source": [
    "mylist = [1,2,3]\n",
    "addon =[10,9,8,7]\n",
    "mylist.extend(addon)\n",
    "print(mylist)"
   ]
  },
  {
   "cell_type": "code",
   "execution_count": 79,
   "id": "630ba44a",
   "metadata": {},
   "outputs": [
    {
     "name": "stdout",
     "output_type": "stream",
     "text": [
      "[1, 2, 3, 1, 2, 3, 10]\n"
     ]
    }
   ],
   "source": [
    "#주어진 값과 일치하는 첫 번째 원소를 삭제\n",
    "mylist = [1,2,3,10,1,2,3,10]\n",
    "mylist.remove(10)\n",
    "print(mylist)"
   ]
  },
  {
   "cell_type": "code",
   "execution_count": 81,
   "id": "a85da800",
   "metadata": {},
   "outputs": [
    {
     "name": "stdout",
     "output_type": "stream",
     "text": [
      "[9, 3, 5, 7, 1]\n"
     ]
    }
   ],
   "source": [
    "mylist=[1,7,5,3,9]\n",
    "mylist.reverse()\n",
    "print(mylist)"
   ]
  },
  {
   "cell_type": "code",
   "execution_count": 83,
   "id": "c96e8699",
   "metadata": {},
   "outputs": [
    {
     "name": "stdout",
     "output_type": "stream",
     "text": [
      "[1, 2, 3, 4, 5]\n"
     ]
    }
   ],
   "source": [
    "#순차정렬(오름차순)-->객체 원본에 반영된다.\n",
    "mylist = [2,5,1,4,3]\n",
    "mylist.sort()\n",
    "print(mylist)"
   ]
  },
  {
   "cell_type": "code",
   "execution_count": 85,
   "id": "965daa89",
   "metadata": {},
   "outputs": [
    {
     "name": "stdout",
     "output_type": "stream",
     "text": [
      "[5, 4, 3, 2, 1]\n"
     ]
    }
   ],
   "source": [
    "# 역순 정렬(내림차순)-->객체 원본에 반영된다.\n",
    "mylist = [2,5,1,4,3]\n",
    "mylist.sort(reverse=True)\n",
    "print(mylist)"
   ]
  },
  {
   "cell_type": "code",
   "execution_count": 87,
   "id": "57aa2488",
   "metadata": {},
   "outputs": [
    {
     "name": "stdout",
     "output_type": "stream",
     "text": [
      "['Hello', 'Python', 'World', 'Good']\n"
     ]
    }
   ],
   "source": [
    "#문자열을 주어진 글자를 기준으로 잘라서 리스트로 변환\n",
    "#->문자열 객체에 포함된 함수 사용\n",
    "text = \"Hello,Python,World,Good\"\n",
    "mylist = text.split(\",\")\n",
    "print (mylist)"
   ]
  },
  {
   "cell_type": "code",
   "execution_count": 89,
   "id": "a97d1c46",
   "metadata": {},
   "outputs": [
    {
     "name": "stdout",
     "output_type": "stream",
     "text": [
      "Hello$Python$World$Good\n"
     ]
    }
   ],
   "source": [
    "#문자열(\"$\")이 파라미터로 전달된 리스트의 각 원소를 연결하는 기호로 사용됨\n",
    "dl = \"$\"\n",
    "mylist =['Hello','Python', 'World','Good']\n",
    "text = dl.join(mylist)\n",
    "print(text)"
   ]
  },
  {
   "cell_type": "code",
   "execution_count": 91,
   "id": "8efec17b",
   "metadata": {},
   "outputs": [
    {
     "name": "stdout",
     "output_type": "stream",
     "text": [
      "HelloPythonWorldGood\n"
     ]
    }
   ],
   "source": [
    "#별다른 기호 없이 리스트를 하나의 문자열로 연결하기\n",
    "empty = \"\"\n",
    "mylist = ['Hello','Python','World','Good']\n",
    "text = empty.join(mylist)\n",
    "print(text)\n",
    "\n"
   ]
  },
  {
   "cell_type": "code",
   "execution_count": 96,
   "id": "e98b8207",
   "metadata": {},
   "outputs": [
    {
     "name": "stdout",
     "output_type": "stream",
     "text": [
      "Hello Python World Good\n"
     ]
    }
   ],
   "source": [
    "#리스트의 각 원소를 공백으로 구분한 문자열로 연결하기\n",
    "space =\" \"\n",
    "mylist = [\"Hello\",\"Python\",'World','Good']\n",
    "text = space.join(mylist)\n",
    "print(text)"
   ]
  },
  {
   "cell_type": "code",
   "execution_count": 98,
   "id": "1266ba1d",
   "metadata": {},
   "outputs": [
    {
     "name": "stdout",
     "output_type": "stream",
     "text": [
      "Life is too short\n",
      "You need Python\n"
     ]
    }
   ],
   "source": [
    "#쌍따옴표나 홑따옴표로 감싸야 한다. ->따옴표의 혼용은 불가.\n",
    "msg1 = \"Life is too short\"\n",
    "msg2='You need Python'\n",
    "print(msg1)\n",
    "print(msg2)"
   ]
  },
  {
   "cell_type": "code",
   "execution_count": 100,
   "id": "fa0b3ccd",
   "metadata": {},
   "outputs": [
    {
     "name": "stdout",
     "output_type": "stream",
     "text": [
      "H\n",
      "e\n",
      "l\n",
      "l\n",
      "o\n"
     ]
    }
   ],
   "source": [
    "mymsg = \"Hello\"\n",
    "\n",
    "#문자열을 반복문으로 탐색하면 문자 하나씩 출력된다.\n",
    "for m in mymsg:\n",
    "    print(m)"
   ]
  },
  {
   "cell_type": "code",
   "execution_count": 103,
   "id": "a8e8fa18",
   "metadata": {},
   "outputs": [
    {
     "name": "stdout",
     "output_type": "stream",
     "text": [
      "Hello, Python\n"
     ]
    }
   ],
   "source": [
    "# 문자열의 덧셈은 문자열을 연결하는 기능\n",
    "msg1=\"Hello\"\n",
    "msg2=\"Python\"\n",
    "print(msg1+\", \"+msg2)"
   ]
  },
  {
   "cell_type": "code",
   "execution_count": 105,
   "id": "6c2c5683",
   "metadata": {},
   "outputs": [
    {
     "name": "stdout",
     "output_type": "stream",
     "text": [
      "20000100\n"
     ]
    }
   ],
   "source": [
    "# 따옴표로 감싸면 무조건 문장.\n",
    "#-> 숫자가 아니므로 연산 결과도 문자열 연산규칙을 따른다.\n",
    "pay = \"20000\"\n",
    "bonus = \"100\"\n",
    "print(pay +bonus)"
   ]
  },
  {
   "cell_type": "code",
   "execution_count": 107,
   "id": "734bc752",
   "metadata": {},
   "outputs": [
    {
     "name": "stdout",
     "output_type": "stream",
     "text": [
      "PythonPythonPythonPythonPython\n"
     ]
    }
   ],
   "source": [
    "# 문자열과 숫자의 곱셈은 동일 내용을 여러번 반복한다.\n",
    "name = \"Python\"\n",
    "print(name*5)"
   ]
  },
  {
   "cell_type": "code",
   "execution_count": 110,
   "id": "cf810db1",
   "metadata": {},
   "outputs": [
    {
     "name": "stdout",
     "output_type": "stream",
     "text": [
      "Life is \"too\" short\n"
     ]
    }
   ],
   "source": [
    "#쌍따옴표 안에 쌍따옴표 넣기 ->이스케이프 문자 사용\n",
    "case1 = \"Life is \\\"too\\\" short\"\n",
    "print(case1)"
   ]
  },
  {
   "cell_type": "code",
   "execution_count": 112,
   "id": "b2f2f4ba",
   "metadata": {},
   "outputs": [
    {
     "name": "stdout",
     "output_type": "stream",
     "text": [
      "Life is ' too' short\n"
     ]
    }
   ],
   "source": [
    "# 홑따옴표 안에 홑따옴표 넣기 -> 이스케이프 문자 사용\n",
    "case2 = 'Life is \\' too\\' short'\n",
    "print(case2)"
   ]
  },
  {
   "cell_type": "code",
   "execution_count": 116,
   "id": "0d1bb9b6",
   "metadata": {},
   "outputs": [
    {
     "name": "stdout",
     "output_type": "stream",
     "text": [
      "Life is too short\n",
      "You need Python\n"
     ]
    }
   ],
   "source": [
    "# 줄바꿈 =>\\n\n",
    "print(\"Life is too short\\nYou need Python\")\n"
   ]
  },
  {
   "cell_type": "code",
   "execution_count": 118,
   "id": "f9024ed7",
   "metadata": {},
   "outputs": [
    {
     "name": "stdout",
     "output_type": "stream",
     "text": [
      "Life is too short\tYou need Python\n"
     ]
    }
   ],
   "source": [
    "# 탭키 =>\\t\n",
    "print(\"Life is too short\\tYou need Python\")"
   ]
  },
  {
   "cell_type": "code",
   "execution_count": 120,
   "id": "7d96a4dd",
   "metadata": {},
   "outputs": [
    {
     "name": "stdout",
     "output_type": "stream",
     "text": [
      "Life is too short\\You need Python\n"
     ]
    }
   ],
   "source": [
    "# 순수한 역슬래시 출력 =>\\\\\n",
    "print(\"Life is too short\\\\You need Python\")"
   ]
  },
  {
   "cell_type": "code",
   "execution_count": 122,
   "id": "82789ba5",
   "metadata": {},
   "outputs": [
    {
     "name": "stdout",
     "output_type": "stream",
     "text": [
      "You 'need' Python\n"
     ]
    }
   ],
   "source": [
    "str1 = \"You 'need' Python\"\n",
    "print(str1)"
   ]
  },
  {
   "cell_type": "code",
   "execution_count": 124,
   "id": "5f94e41a",
   "metadata": {},
   "outputs": [
    {
     "name": "stdout",
     "output_type": "stream",
     "text": [
      "You \"need\" Python\n"
     ]
    }
   ],
   "source": [
    "str2='You \"need\" Python'\n",
    "print(str2)"
   ]
  },
  {
   "cell_type": "code",
   "execution_count": 126,
   "id": "5361af4e",
   "metadata": {},
   "outputs": [
    {
     "name": "stdout",
     "output_type": "stream",
     "text": [
      "나는 10000원을 갖고 잇다.\n"
     ]
    }
   ],
   "source": [
    "# \"%\"연산자 뒤의 값이 \"%d를 치환한다.\"\n",
    "str1 = \"나는 %d원을 갖고 잇다.\" %10000\n",
    "print(str1)"
   ]
  },
  {
   "cell_type": "code",
   "execution_count": 128,
   "id": "f9df2895",
   "metadata": {},
   "outputs": [
    {
     "name": "stdout",
     "output_type": "stream",
     "text": [
      "[123.456789]원 입니다.\n"
     ]
    }
   ],
   "source": [
    "#실수값 표현하기\n",
    "money = 123.456789\n",
    "print(\"[%f]원 입니다.\" %money)\n"
   ]
  },
  {
   "cell_type": "code",
   "execution_count": 130,
   "id": "949ce857",
   "metadata": {},
   "outputs": [
    {
     "name": "stdout",
     "output_type": "stream",
     "text": [
      "Hello Python\n"
     ]
    }
   ],
   "source": [
    "lang = \"Python\"\n",
    "str2 = \"Hello %s\" % lang\n",
    "print(str2)"
   ]
  },
  {
   "cell_type": "code",
   "execution_count": 134,
   "id": "bc8b9150",
   "metadata": {},
   "outputs": [
    {
     "name": "stdout",
     "output_type": "stream",
     "text": [
      "정모 날짜는 2023년 1월 1일 입니다.\n",
      "약속 날짜는 2023년 3월 5일 입니다.\n"
     ]
    }
   ],
   "source": [
    "str3 = \"%s 날짜는 %d년 %d월 %d일 입니다.\"\n",
    "\n",
    "msg1 = str3 %(\"정모\",2023,1,1)\n",
    "print(msg1)\n",
    "\n",
    "msg2 = str3 %(\"약속\",2023,3,5)\n",
    "print(msg2)"
   ]
  },
  {
   "cell_type": "code",
   "execution_count": 136,
   "id": "39de974a",
   "metadata": {},
   "outputs": [
    {
     "name": "stdout",
     "output_type": "stream",
     "text": [
      "[    120000]원을 입금했습니다.\n"
     ]
    }
   ],
   "source": [
    "# 자리수 지정하기 -> 오른쪽 정렬, 빈자리는 공백으로 지정\n",
    "print(\"[%10d]원을 입금했습니다.\"% 120000)\n"
   ]
  },
  {
   "cell_type": "code",
   "execution_count": 139,
   "id": "2f1ce61d",
   "metadata": {},
   "outputs": [
    {
     "name": "stdout",
     "output_type": "stream",
     "text": [
      "[0000120000]원을 입금했습니다.\n"
     ]
    }
   ],
   "source": [
    "#자리수 지정하기-> 오른쪽 정렬, 빈자리는 0으로 지정\n",
    "print(\"[%010d]원을 입금했습니다.\"%120000)"
   ]
  },
  {
   "cell_type": "code",
   "execution_count": 141,
   "id": "6ddb2586",
   "metadata": {},
   "outputs": [
    {
     "name": "stdout",
     "output_type": "stream",
     "text": [
      "[      대한민국]에 살고 있습니다.\n"
     ]
    }
   ],
   "source": [
    "# 문자열의 자리수 지정하기 -> 빈자리는 공백지정만 가능\n",
    "print(\"[%10s]에 살고 있습니다.\" % \"대한민국\")"
   ]
  },
  {
   "cell_type": "code",
   "execution_count": 142,
   "id": "0eceab6d",
   "metadata": {},
   "outputs": [],
   "source": [
    "myMoney = 12345.6789"
   ]
  },
  {
   "cell_type": "code",
   "execution_count": 144,
   "id": "8929574e",
   "metadata": {},
   "outputs": [
    {
     "name": "stdout",
     "output_type": "stream",
     "text": [
      "[12345.679]원 입니다.\n"
     ]
    }
   ],
   "source": [
    "# 소수점 3자리까지 표현하기 -> 소수점 4째자리에서 반올림.\n",
    "print(\"[%0.3f]원 입니다.\" % myMoney)"
   ]
  },
  {
   "cell_type": "code",
   "execution_count": 146,
   "id": "0a1b78ec",
   "metadata": {},
   "outputs": [
    {
     "name": "stdout",
     "output_type": "stream",
     "text": [
      "[ 12345.679]원 입니다.\n"
     ]
    }
   ],
   "source": [
    "# 소수점 3자리까지 표현하되 전체 글자수는 10글자\n",
    "#소수점이 자리수에 포함됨\n",
    "#->오른쪽 정렬\n",
    "print(\"[%10.3f]원 입니다.\" % myMoney)"
   ]
  },
  {
   "cell_type": "code",
   "execution_count": 148,
   "id": "b539ca16",
   "metadata": {},
   "outputs": [
    {
     "name": "stdout",
     "output_type": "stream",
     "text": [
      "[012345.679]원 입니다.\n"
     ]
    }
   ],
   "source": [
    "# 소수점 3자리까지 표현하되 전체 글자수는 10글자\n",
    "# 빈자리를 0으로 채우는 경우는 오른쪽 정렬만 가능함.\n",
    "print(\"[%010.3f]원 입니다.\"% myMoney)\n"
   ]
  },
  {
   "cell_type": "code",
   "execution_count": 150,
   "id": "5467357d",
   "metadata": {},
   "outputs": [
    {
     "name": "stdout",
     "output_type": "stream",
     "text": [
      "I eat 3 apples\n"
     ]
    }
   ],
   "source": [
    "# 0번째  위치에 format()함수에 전달된 0번째 값을 대입\n",
    "msg1 = \"I eat {0} apples\"\n",
    "print( msg1.format(3))"
   ]
  },
  {
   "cell_type": "code",
   "execution_count": 160,
   "id": "dc6447c9",
   "metadata": {},
   "outputs": [
    {
     "name": "stdout",
     "output_type": "stream",
     "text": [
      "개강일은 2023년 1월 26일 입니다.\n"
     ]
    }
   ],
   "source": [
    "# 여러 개의 값을 혼용하기\n",
    "msg2 = \"{0}은 {1}년 {2}월 {3}일 입니다.\"\n",
    "print( msg2.format(\"개강일\", 2023,1,26))"
   ]
  },
  {
   "cell_type": "code",
   "execution_count": 162,
   "id": "c2704491",
   "metadata": {},
   "outputs": [
    {
     "name": "stdout",
     "output_type": "stream",
     "text": [
      "이 과자는 2000원입니다.\n"
     ]
    }
   ],
   "source": [
    "fmt = \"이 과자는 {price}{unit}입니다.\"\n",
    "rst = fmt.format(unit=\"원\", price=2000)\n",
    "print(rst)"
   ]
  },
  {
   "cell_type": "code",
   "execution_count": 155,
   "id": "3ef8bf82",
   "metadata": {},
   "outputs": [
    {
     "name": "stdout",
     "output_type": "stream",
     "text": [
      "종강일은 2023년 10월 20일 입니다.\n"
     ]
    }
   ],
   "source": [
    "# 이름으로 넣기 --> format()메서드에 전달되는 파라미터 순서는 영향이 없다.\n",
    "msg3 = \"{name}은 {yy}년 {mm}월 {dd}일 입니다.\"\n",
    "print( msg3.format(mm=10, name=\"종강일\", dd=20,yy=2023))"
   ]
  },
  {
   "cell_type": "code",
   "execution_count": 157,
   "id": "952de739",
   "metadata": {},
   "outputs": [
    {
     "name": "stdout",
     "output_type": "stream",
     "text": [
      "생일은 2023년 1월 31일 입니다.\n"
     ]
    }
   ],
   "source": [
    "# 혼합사용 -> 숫자형식의 치환문자가 format() 메서드 안에서 먼저 위치해야 한다.\n",
    "msg4 = \"{0}은 {yy}년 {mm}월 {dd}일 입니다.\"\n",
    "print( msg4.format(\"생일\", yy=2023, mm=1, dd=31))"
   ]
  },
  {
   "cell_type": "code",
   "execution_count": 163,
   "id": "2c00a40c",
   "metadata": {},
   "outputs": [
    {
     "name": "stdout",
     "output_type": "stream",
     "text": [
      "좋은 교과서는 이 책입니다.\n"
     ]
    }
   ],
   "source": [
    "# 인덱스 번호는 format() 함수 내의 순서 -> 형식 문자열 안에서는 자유롭게 배치 \n",
    "fmt5 = \"{1} {name}는 이 {0}입니다.\" \n",
    "rst = fmt5.format(\"책\",\"좋은\", name=\"교과서\")\n",
    "print(rst)"
   ]
  },
  {
   "cell_type": "code",
   "execution_count": 165,
   "id": "2519fef5",
   "metadata": {},
   "outputs": [
    {
     "name": "stdout",
     "output_type": "stream",
     "text": [
      "12\n"
     ]
    }
   ],
   "source": [
    "# 전체 글자수 세기 -> 한글, 영문 구분없이 1글자씩 카운트\n",
    "mystr =\"Hello Python\"\n",
    "length = len(mystr)\n",
    "print(length)"
   ]
  },
  {
   "cell_type": "code",
   "execution_count": 167,
   "id": "9de48759",
   "metadata": {},
   "outputs": [
    {
     "name": "stdout",
     "output_type": "stream",
     "text": [
      "9\n"
     ]
    }
   ],
   "source": [
    "# 반환되는 값을 변수에 지정하지 않고 직접 출력도 가능함.\n",
    "print( len(\"안녕하세요 파이썬\"))"
   ]
  },
  {
   "cell_type": "code",
   "execution_count": 1,
   "id": "07c718f2",
   "metadata": {},
   "outputs": [
    {
     "name": "stdout",
     "output_type": "stream",
     "text": [
      "<class 'str'>\n",
      "123\n"
     ]
    }
   ],
   "source": [
    "# 정수를 문자열로 변환 --> 데이터 타입과 결과값 확인\n",
    "num1 = 123\n",
    "num1_s= str(num1)\n",
    "print(type(num1_s))\n",
    "print(num1_s)"
   ]
  },
  {
   "cell_type": "code",
   "execution_count": 2,
   "id": "c336f629",
   "metadata": {},
   "outputs": [
    {
     "name": "stdout",
     "output_type": "stream",
     "text": [
      "<class 'str'>\n",
      "123.45\n"
     ]
    }
   ],
   "source": [
    "# 실수를 문자열로 변환 --> 데이터 타입과 결과값 확인\n",
    "num2 = 123.45\n",
    "num2_s = str(num2)\n",
    "print(type(num2_s))\n",
    "print(num2_s)"
   ]
  },
  {
   "cell_type": "code",
   "execution_count": 5,
   "id": "cf3ecc09",
   "metadata": {},
   "outputs": [
    {
     "name": "stdout",
     "output_type": "stream",
     "text": [
      "<class 'str'>\n",
      "True\n"
     ]
    }
   ],
   "source": [
    "# 불리언을 문자열로 변환 -->데이터 타입과 결과값 확인\n",
    "bool1 = True\n",
    "bool1_s = str(bool1)\n",
    "print(type(bool1_s))\n",
    "print(bool1_s)"
   ]
  },
  {
   "cell_type": "code",
   "execution_count": 7,
   "id": "8a98f8b7",
   "metadata": {},
   "outputs": [],
   "source": [
    "# 실습을 위한 샘플 문자열\n",
    "mystr =\"파이썬은 웹 프로그랭이나 데이터 분석에 많이 사용되는 언어입니다.\""
   ]
  },
  {
   "cell_type": "code",
   "execution_count": 9,
   "id": "b91937fb",
   "metadata": {},
   "outputs": [
    {
     "name": "stdout",
     "output_type": "stream",
     "text": [
      "4\n",
      "0\n"
     ]
    }
   ],
   "source": [
    "# 글자 카운트\n",
    "print( mystr.count(\"이\"))\n",
    "print( mystr.count(\"가\"))"
   ]
  },
  {
   "cell_type": "code",
   "execution_count": 12,
   "id": "2767a69d",
   "metadata": {},
   "outputs": [
    {
     "name": "stdout",
     "output_type": "stream",
     "text": [
      "1\n",
      "0\n"
     ]
    }
   ],
   "source": [
    "# 단어 카운트\n",
    "print( mystr.count(\"파이썬\"))\n",
    "print( mystr.count(\"Python\"))\n"
   ]
  },
  {
   "cell_type": "code",
   "execution_count": 13,
   "id": "00c49956",
   "metadata": {},
   "outputs": [],
   "source": [
    "# 실습을 위한 문자열\n",
    "message = \"내가 좋아하는 것에만 집중하기로 했다.\"\n"
   ]
  },
  {
   "cell_type": "code",
   "execution_count": 15,
   "id": "e7662e7c",
   "metadata": {},
   "outputs": [
    {
     "name": "stdout",
     "output_type": "stream",
     "text": [
      "1\n",
      "-1\n"
     ]
    }
   ],
   "source": [
    "# 글자의 위치 조회 (찾지 못할 경우 -1을 반환한다.)\n",
    "print( message.find(\"가\"))\n",
    "print( message.find(\"나\"))"
   ]
  },
  {
   "cell_type": "code",
   "execution_count": 18,
   "id": "8f029b8c",
   "metadata": {},
   "outputs": [
    {
     "name": "stdout",
     "output_type": "stream",
     "text": [
      "12\n",
      "-1\n"
     ]
    }
   ],
   "source": [
    "# 단어의 시작위치 조회 (찾지 못할 경우 -1을 반환한다.)\n",
    "print( message.find(\"집중\"))\n",
    "print( message.find(\"파이썬\"))"
   ]
  },
  {
   "cell_type": "code",
   "execution_count": 19,
   "id": "7e4a68eb",
   "metadata": {},
   "outputs": [],
   "source": [
    "#실습을 위한 문자열\n",
    "sentence = \"사람의 사람에 의한 사람을 위한\""
   ]
  },
  {
   "cell_type": "code",
   "execution_count": 21,
   "id": "64c3318a",
   "metadata": {},
   "outputs": [
    {
     "name": "stdout",
     "output_type": "stream",
     "text": [
      "11\n",
      "-1\n"
     ]
    }
   ],
   "source": [
    "#글자 검색\n",
    "#-> 마지막으로 나타나는 글자의 위치를 왼쪽에서 0부터 카운트\n",
    "# ->찾지 못할 경우 -1을 리턴\n",
    "print( sentence.rfind(\"사\"))\n",
    "print( sentence.rfind(\"자\"))"
   ]
  },
  {
   "cell_type": "code",
   "execution_count": 25,
   "id": "30036a89",
   "metadata": {},
   "outputs": [
    {
     "name": "stdout",
     "output_type": "stream",
     "text": [
      "True\n",
      "False\n"
     ]
    }
   ],
   "source": [
    "# 문자열이 대문자로 구성된 경우 True\n",
    "test3 = \"HELLO\"\n",
    "print(test3.isupper())\n",
    "\n",
    "# 문자열이 대문자로 구성되지 않은 경우 False\n",
    "test4 = \"Hello\"\n",
    "print(test4.isupper())"
   ]
  },
  {
   "cell_type": "code",
   "execution_count": 30,
   "id": "142be2e7",
   "metadata": {},
   "outputs": [
    {
     "name": "stdout",
     "output_type": "stream",
     "text": [
      "True\n",
      "False\n"
     ]
    }
   ],
   "source": [
    "#문자열이 소문자로 구성된 경우 True\n",
    "test5 =\"hello\"\n",
    "print(test5.islower())\n",
    "\n",
    "# 문자열이 소문자로 구성되지 않은 경우 False\n",
    "test6 =\"Hello\"\n",
    "print(test6.islower())"
   ]
  },
  {
   "cell_type": "code",
   "execution_count": 32,
   "id": "193cbc0c",
   "metadata": {},
   "outputs": [],
   "source": [
    "mystr = \"Hello Python\""
   ]
  },
  {
   "cell_type": "code",
   "execution_count": 36,
   "id": "8809045f",
   "metadata": {},
   "outputs": [
    {
     "name": "stdout",
     "output_type": "stream",
     "text": [
      "HELLO PYTHON\n"
     ]
    }
   ],
   "source": [
    "up = mystr.upper()\n",
    "print(up)"
   ]
  },
  {
   "cell_type": "code",
   "execution_count": 38,
   "id": "95559060",
   "metadata": {},
   "outputs": [
    {
     "name": "stdout",
     "output_type": "stream",
     "text": [
      "hello python\n"
     ]
    }
   ],
   "source": [
    "lw = mystr.lower()\n",
    "print(lw)"
   ]
  },
  {
   "cell_type": "code",
   "execution_count": 40,
   "id": "10ccb7d1",
   "metadata": {},
   "outputs": [
    {
     "name": "stdout",
     "output_type": "stream",
     "text": [
      "Hello Python\n"
     ]
    }
   ],
   "source": [
    "print(mystr)"
   ]
  },
  {
   "cell_type": "code",
   "execution_count": 42,
   "id": "a7095720",
   "metadata": {},
   "outputs": [
    {
     "name": "stdout",
     "output_type": "stream",
     "text": [
      "hELLO pYTHON\n"
     ]
    }
   ],
   "source": [
    "# 대문자는 소문자로, 소문자는 대문자로 변환한 결과를 반환한다.\n",
    "print( mystr.swapcase())"
   ]
  },
  {
   "cell_type": "code",
   "execution_count": 44,
   "id": "f5a80c37",
   "metadata": {},
   "outputs": [
    {
     "name": "stdout",
     "output_type": "stream",
     "text": [
      "Hello python\n"
     ]
    }
   ],
   "source": [
    "# 문장의 첫 글자를 대문자로 변환한 결과를 반환한다.\n",
    "# ->나머지 모든 글자는 소문자 처리함\n",
    "print( mystr.capitalize())"
   ]
  },
  {
   "cell_type": "code",
   "execution_count": 46,
   "id": "275ea057",
   "metadata": {},
   "outputs": [
    {
     "name": "stdout",
     "output_type": "stream",
     "text": [
      "Hello Python\n"
     ]
    }
   ],
   "source": [
    "# 각 단어의 첫 글자를 대문자로 변환한 결과를 반환한다.\n",
    "print( mystr.title())"
   ]
  },
  {
   "cell_type": "code",
   "execution_count": 49,
   "id": "c37669ee",
   "metadata": {},
   "outputs": [
    {
     "name": "stdout",
     "output_type": "stream",
     "text": [
      "[        python      ]\n",
      "[python]\n",
      "[python      ]\n",
      "[        python]\n"
     ]
    }
   ],
   "source": [
    "k =\"        python      \"\n",
    "print(\"[\" +k+\"]\")\n",
    "\n",
    "#앞뒤 공백 제거 \n",
    "x = k.strip()\n",
    "print(\"[\" + x+ \"]\")\n",
    "#왼쪽 공백 제거\n",
    "y =k.lstrip()\n",
    "print(\"[\" +y+ \"]\")\n",
    "#오른쪽 공백 제거\n",
    "z = k.rstrip()\n",
    "print(\"[\" +z+\"]\")"
   ]
  },
  {
   "cell_type": "code",
   "execution_count": 51,
   "id": "c1aa7e44",
   "metadata": {},
   "outputs": [
    {
     "name": "stdout",
     "output_type": "stream",
     "text": [
      "Hello Python\n",
      "Hello World\n"
     ]
    }
   ],
   "source": [
    "myMessage = \"Hello World\"\n",
    "\n",
    "newMessage = myMessage.replace(\"World\",\"Python\")\n",
    "print( newMessage)\n",
    "\n",
    "print(myMessage)"
   ]
  },
  {
   "cell_type": "code",
   "execution_count": 53,
   "id": "3a738730",
   "metadata": {},
   "outputs": [
    {
     "name": "stdout",
     "output_type": "stream",
     "text": [
      "['파이썬', '데이터분석', '머신러닝']\n"
     ]
    }
   ],
   "source": [
    "sample1 = \"파이썬,데이터분석,머신러닝\"\n",
    "slist1= sample1.split(\",\")\n",
    "slist1 = sample1.split(\",\")\n",
    "print(slist1)"
   ]
  },
  {
   "cell_type": "code",
   "execution_count": 55,
   "id": "1e3a33dc",
   "metadata": {},
   "outputs": [
    {
     "name": "stdout",
     "output_type": "stream",
     "text": [
      "['파이썬', '데이터분석', '머신러닝']\n"
     ]
    }
   ],
   "source": [
    "sample2 =\"파이썬 데이터분석 머신러닝\"\n",
    "slist2 = sample2.split()\n",
    "print(slist2)"
   ]
  },
  {
   "cell_type": "code",
   "execution_count": 57,
   "id": "90307215",
   "metadata": {},
   "outputs": [
    {
     "name": "stdout",
     "output_type": "stream",
     "text": [
      "True\n"
     ]
    }
   ],
   "source": [
    "test1 =\"123\"\n",
    "print(test1.isnumeric())\n"
   ]
  },
  {
   "cell_type": "code",
   "execution_count": null,
   "id": "0fa05e3f",
   "metadata": {},
   "outputs": [],
   "source": [
    "test2 =\"Hello123\"\n",
    "print(test2.isnumeric())"
   ]
  }
 ],
 "metadata": {
  "kernelspec": {
   "display_name": "Python 3",
   "language": "python",
   "name": "python3"
  },
  "language_info": {
   "codemirror_mode": {
    "name": "ipython",
    "version": 3
   },
   "file_extension": ".py",
   "mimetype": "text/x-python",
   "name": "python",
   "nbconvert_exporter": "python",
   "pygments_lexer": "ipython3",
   "version": "3.13.9"
  }
 },
 "nbformat": 4,
 "nbformat_minor": 5
}
